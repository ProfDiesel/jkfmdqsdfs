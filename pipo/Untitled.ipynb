{
 "cells": [
  {
   "cell_type": "code",
   "execution_count": 2,
   "id": "65843ffd-2bd4-4194-8c09-076a8f6b9013",
   "metadata": {},
   "outputs": [],
   "source": [
    "import numpy.random\n",
    "import umap\n",
    "\n",
    "data = [(numpy.random.rand(768), str(n)) for n in range(100)]\n",
    "points, labels = zip(*data)\n",
    "mapped = umap.UMAP(n_jobs=1, random_state=42, n_components=3, metric='cosine').fit(points)"
   ]
  },
  {
   "cell_type": "code",
   "execution_count": 4,
   "id": "af17f53b-ff42-48d0-8c7b-6ac09742b9e0",
   "metadata": {},
   "outputs": [
    {
     "data": {
      "application/vnd.plotly.v1+json": {
       "config": {
        "plotlyServerURL": "https://plot.ly"
       },
       "data": [
        {
         "hovertemplate": "0=%{x}<br>1=%{y}<br>2=%{z}<extra></extra>",
         "legendgroup": "",
         "marker": {
          "color": "#636efa",
          "symbol": "circle"
         },
         "mode": "markers",
         "name": "",
         "scene": "scene",
         "showlegend": false,
         "type": "scatter3d",
         "x": [
          10.129332,
          10.229139,
          10.953159,
          10.025951,
          11.309105,
          11.214932,
          11.920817,
          11.543744,
          10.530145,
          10.39968,
          10.959664,
          10.208407,
          11.985189,
          11.388807,
          11.68236,
          9.464962,
          10.559179,
          11.132618,
          9.845152,
          11.929133,
          11.573952,
          10.170666,
          11.110959,
          11.038522,
          10.749172,
          10.667652,
          9.575448,
          10.551912,
          11.05974,
          11.722817,
          10.8587475,
          9.590373,
          10.954807,
          10.458643,
          11.312397,
          11.036746,
          11.590694,
          10.906004,
          10.924223,
          11.660261,
          11.110178,
          9.868199,
          11.124167,
          9.924819,
          9.764361,
          9.420982,
          10.697123,
          10.353636,
          10.927871,
          10.86277,
          9.744199,
          10.08014,
          9.334477,
          9.241908,
          11.189584,
          11.413356,
          10.445103,
          9.321156,
          11.340021,
          9.918744,
          10.554539,
          10.54121,
          9.871901,
          9.595072,
          10.458651,
          11.517203,
          10.933447,
          9.642102,
          10.131308,
          10.565529,
          11.01037,
          10.975817,
          11.200619,
          9.653641,
          10.297894,
          9.501808,
          10.436544,
          11.537259,
          11.21518,
          10.93761,
          11.028509,
          10.914129,
          10.701101,
          10.667794,
          9.928497,
          10.719468,
          10.914556,
          10.278421,
          9.404637,
          9.877446,
          9.667543,
          11.957542,
          10.376015,
          10.641028,
          12.141555,
          10.64774,
          11.384099,
          11.430462,
          9.879637,
          10.405164
         ],
         "y": [
          5.427843,
          6.5188465,
          5.4625335,
          4.866531,
          5.854807,
          6.2499247,
          5.406682,
          5.04476,
          5.34292,
          7.0391846,
          6.213257,
          5.317473,
          5.0308523,
          5.0196753,
          5.5126576,
          5.880028,
          5.5972915,
          6.09972,
          5.9409676,
          6.3142395,
          5.962465,
          5.953043,
          5.013281,
          4.6269994,
          4.455422,
          5.8570547,
          5.2044253,
          5.1517706,
          5.436769,
          5.1120243,
          6.514969,
          6.4383545,
          5.3666415,
          6.35844,
          6.0365934,
          5.9285116,
          6.5771303,
          5.939977,
          4.717825,
          4.56957,
          5.891987,
          5.7149577,
          6.430649,
          5.41293,
          5.4557896,
          6.110577,
          5.2020736,
          6.2772236,
          4.585395,
          5.8422103,
          5.763297,
          6.341542,
          5.3947725,
          6.4774013,
          4.8499627,
          5.287374,
          5.3274364,
          5.4929276,
          6.191861,
          4.670176,
          4.6817026,
          5.025046,
          4.636364,
          5.8530393,
          5.1571407,
          5.9053535,
          4.515171,
          6.4053903,
          6.761295,
          6.9577804,
          6.2158546,
          4.3516426,
          4.2923884,
          5.357473,
          6.839972,
          5.1530004,
          4.615014,
          4.610115,
          5.024484,
          5.8617897,
          5.2092447,
          6.357543,
          6.6861973,
          4.310279,
          6.051648,
          6.8378887,
          4.949108,
          6.9159946,
          6.1023703,
          6.155206,
          6.692081,
          5.3063993,
          6.192924,
          6.106064,
          5.5994296,
          6.555714,
          4.61381,
          6.426167,
          4.5654874,
          5.4307694
         ],
         "z": [
          6.862652,
          6.7380934,
          7.832974,
          6.666813,
          7.7613997,
          6.249094,
          8.00665,
          7.0023847,
          7.931611,
          7.6136317,
          7.610025,
          7.549607,
          7.653904,
          6.536713,
          8.209219,
          6.7314916,
          7.1850967,
          7.2291274,
          7.6463094,
          7.69305,
          7.6458335,
          8.524997,
          7.653948,
          6.690937,
          7.9027643,
          6.4602485,
          7.605142,
          8.486866,
          8.693545,
          6.684416,
          7.1904616,
          8.260734,
          7.9952326,
          7.296362,
          7.019013,
          6.682218,
          7.588039,
          8.270953,
          7.2224193,
          7.739697,
          6.189752,
          7.2156816,
          6.3535633,
          8.3113,
          7.6891522,
          7.231891,
          6.9782553,
          8.547986,
          8.335473,
          9.045263,
          8.198836,
          8.128149,
          7.530916,
          7.8848844,
          8.175703,
          7.5267706,
          7.311889,
          7.97457,
          7.222489,
          7.8930955,
          6.57012,
          6.371895,
          7.3957567,
          8.478105,
          8.80539,
          6.1651373,
          6.709505,
          7.411455,
          6.837237,
          7.299163,
          8.4072275,
          7.649072,
          8.069327,
          6.798616,
          8.058267,
          6.720616,
          8.623383,
          7.182997,
          8.431049,
          6.1511884,
          9.061117,
          8.273029,
          7.802995,
          8.312493,
          6.330349,
          7.0013185,
          8.961786,
          7.297335,
          8.582555,
          6.4353285,
          7.901714,
          7.4042664,
          7.875382,
          8.964491,
          7.7861476,
          8.350709,
          8.394849,
          6.896067,
          7.314913,
          6.459805
         ]
        }
       ],
       "layout": {
        "autosize": true,
        "legend": {
         "tracegroupgap": 0
        },
        "margin": {
         "b": 0,
         "l": 0,
         "r": 0,
         "t": 0
        },
        "scene": {
         "aspectmode": "auto",
         "aspectratio": {
          "x": 1.0170145433926085,
          "y": 0.9634040568164166,
          "z": 1.0206206846675103
         },
         "camera": {
          "center": {
           "x": 0,
           "y": 0,
           "z": 0
          },
          "eye": {
           "x": 1.692816686698914,
           "y": 1.320922757732265,
           "z": 0.2775513165861387
          },
          "projection": {
           "type": "perspective"
          },
          "up": {
           "x": 0,
           "y": 0,
           "z": 1
          }
         },
         "domain": {
          "x": [
           0,
           1
          ],
          "y": [
           0,
           1
          ]
         },
         "xaxis": {
          "title": {
           "text": "0"
          },
          "type": "linear"
         },
         "yaxis": {
          "title": {
           "text": "1"
          },
          "type": "linear"
         },
         "zaxis": {
          "title": {
           "text": "2"
          },
          "type": "linear"
         }
        },
        "template": {
         "data": {
          "bar": [
           {
            "error_x": {
             "color": "#2a3f5f"
            },
            "error_y": {
             "color": "#2a3f5f"
            },
            "marker": {
             "line": {
              "color": "#E5ECF6",
              "width": 0.5
             },
             "pattern": {
              "fillmode": "overlay",
              "size": 10,
              "solidity": 0.2
             }
            },
            "type": "bar"
           }
          ],
          "barpolar": [
           {
            "marker": {
             "line": {
              "color": "#E5ECF6",
              "width": 0.5
             },
             "pattern": {
              "fillmode": "overlay",
              "size": 10,
              "solidity": 0.2
             }
            },
            "type": "barpolar"
           }
          ],
          "carpet": [
           {
            "aaxis": {
             "endlinecolor": "#2a3f5f",
             "gridcolor": "white",
             "linecolor": "white",
             "minorgridcolor": "white",
             "startlinecolor": "#2a3f5f"
            },
            "baxis": {
             "endlinecolor": "#2a3f5f",
             "gridcolor": "white",
             "linecolor": "white",
             "minorgridcolor": "white",
             "startlinecolor": "#2a3f5f"
            },
            "type": "carpet"
           }
          ],
          "choropleth": [
           {
            "colorbar": {
             "outlinewidth": 0,
             "ticks": ""
            },
            "type": "choropleth"
           }
          ],
          "contour": [
           {
            "colorbar": {
             "outlinewidth": 0,
             "ticks": ""
            },
            "colorscale": [
             [
              0,
              "#0d0887"
             ],
             [
              0.1111111111111111,
              "#46039f"
             ],
             [
              0.2222222222222222,
              "#7201a8"
             ],
             [
              0.3333333333333333,
              "#9c179e"
             ],
             [
              0.4444444444444444,
              "#bd3786"
             ],
             [
              0.5555555555555556,
              "#d8576b"
             ],
             [
              0.6666666666666666,
              "#ed7953"
             ],
             [
              0.7777777777777778,
              "#fb9f3a"
             ],
             [
              0.8888888888888888,
              "#fdca26"
             ],
             [
              1,
              "#f0f921"
             ]
            ],
            "type": "contour"
           }
          ],
          "contourcarpet": [
           {
            "colorbar": {
             "outlinewidth": 0,
             "ticks": ""
            },
            "type": "contourcarpet"
           }
          ],
          "heatmap": [
           {
            "colorbar": {
             "outlinewidth": 0,
             "ticks": ""
            },
            "colorscale": [
             [
              0,
              "#0d0887"
             ],
             [
              0.1111111111111111,
              "#46039f"
             ],
             [
              0.2222222222222222,
              "#7201a8"
             ],
             [
              0.3333333333333333,
              "#9c179e"
             ],
             [
              0.4444444444444444,
              "#bd3786"
             ],
             [
              0.5555555555555556,
              "#d8576b"
             ],
             [
              0.6666666666666666,
              "#ed7953"
             ],
             [
              0.7777777777777778,
              "#fb9f3a"
             ],
             [
              0.8888888888888888,
              "#fdca26"
             ],
             [
              1,
              "#f0f921"
             ]
            ],
            "type": "heatmap"
           }
          ],
          "heatmapgl": [
           {
            "colorbar": {
             "outlinewidth": 0,
             "ticks": ""
            },
            "colorscale": [
             [
              0,
              "#0d0887"
             ],
             [
              0.1111111111111111,
              "#46039f"
             ],
             [
              0.2222222222222222,
              "#7201a8"
             ],
             [
              0.3333333333333333,
              "#9c179e"
             ],
             [
              0.4444444444444444,
              "#bd3786"
             ],
             [
              0.5555555555555556,
              "#d8576b"
             ],
             [
              0.6666666666666666,
              "#ed7953"
             ],
             [
              0.7777777777777778,
              "#fb9f3a"
             ],
             [
              0.8888888888888888,
              "#fdca26"
             ],
             [
              1,
              "#f0f921"
             ]
            ],
            "type": "heatmapgl"
           }
          ],
          "histogram": [
           {
            "marker": {
             "pattern": {
              "fillmode": "overlay",
              "size": 10,
              "solidity": 0.2
             }
            },
            "type": "histogram"
           }
          ],
          "histogram2d": [
           {
            "colorbar": {
             "outlinewidth": 0,
             "ticks": ""
            },
            "colorscale": [
             [
              0,
              "#0d0887"
             ],
             [
              0.1111111111111111,
              "#46039f"
             ],
             [
              0.2222222222222222,
              "#7201a8"
             ],
             [
              0.3333333333333333,
              "#9c179e"
             ],
             [
              0.4444444444444444,
              "#bd3786"
             ],
             [
              0.5555555555555556,
              "#d8576b"
             ],
             [
              0.6666666666666666,
              "#ed7953"
             ],
             [
              0.7777777777777778,
              "#fb9f3a"
             ],
             [
              0.8888888888888888,
              "#fdca26"
             ],
             [
              1,
              "#f0f921"
             ]
            ],
            "type": "histogram2d"
           }
          ],
          "histogram2dcontour": [
           {
            "colorbar": {
             "outlinewidth": 0,
             "ticks": ""
            },
            "colorscale": [
             [
              0,
              "#0d0887"
             ],
             [
              0.1111111111111111,
              "#46039f"
             ],
             [
              0.2222222222222222,
              "#7201a8"
             ],
             [
              0.3333333333333333,
              "#9c179e"
             ],
             [
              0.4444444444444444,
              "#bd3786"
             ],
             [
              0.5555555555555556,
              "#d8576b"
             ],
             [
              0.6666666666666666,
              "#ed7953"
             ],
             [
              0.7777777777777778,
              "#fb9f3a"
             ],
             [
              0.8888888888888888,
              "#fdca26"
             ],
             [
              1,
              "#f0f921"
             ]
            ],
            "type": "histogram2dcontour"
           }
          ],
          "mesh3d": [
           {
            "colorbar": {
             "outlinewidth": 0,
             "ticks": ""
            },
            "type": "mesh3d"
           }
          ],
          "parcoords": [
           {
            "line": {
             "colorbar": {
              "outlinewidth": 0,
              "ticks": ""
             }
            },
            "type": "parcoords"
           }
          ],
          "pie": [
           {
            "automargin": true,
            "type": "pie"
           }
          ],
          "scatter": [
           {
            "fillpattern": {
             "fillmode": "overlay",
             "size": 10,
             "solidity": 0.2
            },
            "type": "scatter"
           }
          ],
          "scatter3d": [
           {
            "line": {
             "colorbar": {
              "outlinewidth": 0,
              "ticks": ""
             }
            },
            "marker": {
             "colorbar": {
              "outlinewidth": 0,
              "ticks": ""
             }
            },
            "type": "scatter3d"
           }
          ],
          "scattercarpet": [
           {
            "marker": {
             "colorbar": {
              "outlinewidth": 0,
              "ticks": ""
             }
            },
            "type": "scattercarpet"
           }
          ],
          "scattergeo": [
           {
            "marker": {
             "colorbar": {
              "outlinewidth": 0,
              "ticks": ""
             }
            },
            "type": "scattergeo"
           }
          ],
          "scattergl": [
           {
            "marker": {
             "colorbar": {
              "outlinewidth": 0,
              "ticks": ""
             }
            },
            "type": "scattergl"
           }
          ],
          "scattermapbox": [
           {
            "marker": {
             "colorbar": {
              "outlinewidth": 0,
              "ticks": ""
             }
            },
            "type": "scattermapbox"
           }
          ],
          "scatterpolar": [
           {
            "marker": {
             "colorbar": {
              "outlinewidth": 0,
              "ticks": ""
             }
            },
            "type": "scatterpolar"
           }
          ],
          "scatterpolargl": [
           {
            "marker": {
             "colorbar": {
              "outlinewidth": 0,
              "ticks": ""
             }
            },
            "type": "scatterpolargl"
           }
          ],
          "scatterternary": [
           {
            "marker": {
             "colorbar": {
              "outlinewidth": 0,
              "ticks": ""
             }
            },
            "type": "scatterternary"
           }
          ],
          "surface": [
           {
            "colorbar": {
             "outlinewidth": 0,
             "ticks": ""
            },
            "colorscale": [
             [
              0,
              "#0d0887"
             ],
             [
              0.1111111111111111,
              "#46039f"
             ],
             [
              0.2222222222222222,
              "#7201a8"
             ],
             [
              0.3333333333333333,
              "#9c179e"
             ],
             [
              0.4444444444444444,
              "#bd3786"
             ],
             [
              0.5555555555555556,
              "#d8576b"
             ],
             [
              0.6666666666666666,
              "#ed7953"
             ],
             [
              0.7777777777777778,
              "#fb9f3a"
             ],
             [
              0.8888888888888888,
              "#fdca26"
             ],
             [
              1,
              "#f0f921"
             ]
            ],
            "type": "surface"
           }
          ],
          "table": [
           {
            "cells": {
             "fill": {
              "color": "#EBF0F8"
             },
             "line": {
              "color": "white"
             }
            },
            "header": {
             "fill": {
              "color": "#C8D4E3"
             },
             "line": {
              "color": "white"
             }
            },
            "type": "table"
           }
          ]
         },
         "layout": {
          "annotationdefaults": {
           "arrowcolor": "#2a3f5f",
           "arrowhead": 0,
           "arrowwidth": 1
          },
          "autotypenumbers": "strict",
          "coloraxis": {
           "colorbar": {
            "outlinewidth": 0,
            "ticks": ""
           }
          },
          "colorscale": {
           "diverging": [
            [
             0,
             "#8e0152"
            ],
            [
             0.1,
             "#c51b7d"
            ],
            [
             0.2,
             "#de77ae"
            ],
            [
             0.3,
             "#f1b6da"
            ],
            [
             0.4,
             "#fde0ef"
            ],
            [
             0.5,
             "#f7f7f7"
            ],
            [
             0.6,
             "#e6f5d0"
            ],
            [
             0.7,
             "#b8e186"
            ],
            [
             0.8,
             "#7fbc41"
            ],
            [
             0.9,
             "#4d9221"
            ],
            [
             1,
             "#276419"
            ]
           ],
           "sequential": [
            [
             0,
             "#0d0887"
            ],
            [
             0.1111111111111111,
             "#46039f"
            ],
            [
             0.2222222222222222,
             "#7201a8"
            ],
            [
             0.3333333333333333,
             "#9c179e"
            ],
            [
             0.4444444444444444,
             "#bd3786"
            ],
            [
             0.5555555555555556,
             "#d8576b"
            ],
            [
             0.6666666666666666,
             "#ed7953"
            ],
            [
             0.7777777777777778,
             "#fb9f3a"
            ],
            [
             0.8888888888888888,
             "#fdca26"
            ],
            [
             1,
             "#f0f921"
            ]
           ],
           "sequentialminus": [
            [
             0,
             "#0d0887"
            ],
            [
             0.1111111111111111,
             "#46039f"
            ],
            [
             0.2222222222222222,
             "#7201a8"
            ],
            [
             0.3333333333333333,
             "#9c179e"
            ],
            [
             0.4444444444444444,
             "#bd3786"
            ],
            [
             0.5555555555555556,
             "#d8576b"
            ],
            [
             0.6666666666666666,
             "#ed7953"
            ],
            [
             0.7777777777777778,
             "#fb9f3a"
            ],
            [
             0.8888888888888888,
             "#fdca26"
            ],
            [
             1,
             "#f0f921"
            ]
           ]
          },
          "colorway": [
           "#636efa",
           "#EF553B",
           "#00cc96",
           "#ab63fa",
           "#FFA15A",
           "#19d3f3",
           "#FF6692",
           "#B6E880",
           "#FF97FF",
           "#FECB52"
          ],
          "font": {
           "color": "#2a3f5f"
          },
          "geo": {
           "bgcolor": "white",
           "lakecolor": "white",
           "landcolor": "#E5ECF6",
           "showlakes": true,
           "showland": true,
           "subunitcolor": "white"
          },
          "hoverlabel": {
           "align": "left"
          },
          "hovermode": "closest",
          "mapbox": {
           "style": "light"
          },
          "paper_bgcolor": "white",
          "plot_bgcolor": "#E5ECF6",
          "polar": {
           "angularaxis": {
            "gridcolor": "white",
            "linecolor": "white",
            "ticks": ""
           },
           "bgcolor": "#E5ECF6",
           "radialaxis": {
            "gridcolor": "white",
            "linecolor": "white",
            "ticks": ""
           }
          },
          "scene": {
           "xaxis": {
            "backgroundcolor": "#E5ECF6",
            "gridcolor": "white",
            "gridwidth": 2,
            "linecolor": "white",
            "showbackground": true,
            "ticks": "",
            "zerolinecolor": "white"
           },
           "yaxis": {
            "backgroundcolor": "#E5ECF6",
            "gridcolor": "white",
            "gridwidth": 2,
            "linecolor": "white",
            "showbackground": true,
            "ticks": "",
            "zerolinecolor": "white"
           },
           "zaxis": {
            "backgroundcolor": "#E5ECF6",
            "gridcolor": "white",
            "gridwidth": 2,
            "linecolor": "white",
            "showbackground": true,
            "ticks": "",
            "zerolinecolor": "white"
           }
          },
          "shapedefaults": {
           "line": {
            "color": "#2a3f5f"
           }
          },
          "ternary": {
           "aaxis": {
            "gridcolor": "white",
            "linecolor": "white",
            "ticks": ""
           },
           "baxis": {
            "gridcolor": "white",
            "linecolor": "white",
            "ticks": ""
           },
           "bgcolor": "#E5ECF6",
           "caxis": {
            "gridcolor": "white",
            "linecolor": "white",
            "ticks": ""
           }
          },
          "title": {
           "x": 0.05
          },
          "xaxis": {
           "automargin": true,
           "gridcolor": "white",
           "linecolor": "white",
           "ticks": "",
           "title": {
            "standoff": 15
           },
           "zerolinecolor": "white",
           "zerolinewidth": 2
          },
          "yaxis": {
           "automargin": true,
           "gridcolor": "white",
           "linecolor": "white",
           "ticks": "",
           "title": {
            "standoff": 15
           },
           "zerolinecolor": "white",
           "zerolinewidth": 2
          }
         }
        }
       }
      },
      "image/png": "[encoded data removed]",
      "text/html": [
       "<div>                            <div id=\"3274e2e3-19e1-43f7-ae1e-78014e56d06d\" class=\"plotly-graph-div\" style=\"height:525px; width:100%;\"></div>            <script type=\"text/javascript\">                require([\"plotly\"], function(Plotly) {                    window.PLOTLYENV=window.PLOTLYENV || {};                                    if (document.getElementById(\"3274e2e3-19e1-43f7-ae1e-78014e56d06d\")) {                    Plotly.newPlot(                        \"3274e2e3-19e1-43f7-ae1e-78014e56d06d\",                        [{\"hovertemplate\":\"0=%{x}\\u003cbr\\u003e1=%{y}\\u003cbr\\u003e2=%{z}\\u003cextra\\u003e\\u003c\\u002fextra\\u003e\",\"legendgroup\":\"\",\"marker\":{\"color\":\"#636efa\",\"symbol\":\"circle\"},\"mode\":\"markers\",\"name\":\"\",\"scene\":\"scene\",\"showlegend\":false,\"x\":[10.129332,10.229139,10.953159,10.025951,11.309105,11.214932,11.920817,11.543744,10.530145,10.39968,10.959664,10.208407,11.985189,11.388807,11.68236,9.464962,10.559179,11.132618,9.845152,11.929133,11.573952,10.170666,11.110959,11.038522,10.749172,10.667652,9.575448,10.551912,11.05974,11.722817,10.8587475,9.590373,10.954807,10.458643,11.312397,11.036746,11.590694,10.906004,10.924223,11.660261,11.110178,9.868199,11.124167,9.924819,9.764361,9.420982,10.697123,10.353636,10.927871,10.86277,9.744199,10.08014,9.334477,9.241908,11.189584,11.413356,10.445103,9.321156,11.340021,9.918744,10.554539,10.54121,9.871901,9.595072,10.458651,11.517203,10.933447,9.642102,10.131308,10.565529,11.01037,10.975817,11.200619,9.653641,10.297894,9.501808,10.436544,11.537259,11.21518,10.93761,11.028509,10.914129,10.701101,10.667794,9.928497,10.719468,10.914556,10.278421,9.404637,9.877446,9.667543,11.957542,10.376015,10.641028,12.141555,10.64774,11.384099,11.430462,9.879637,10.405164],\"y\":[5.427843,6.5188465,5.4625335,4.866531,5.854807,6.2499247,5.406682,5.04476,5.34292,7.0391846,6.213257,5.317473,5.0308523,5.0196753,5.5126576,5.880028,5.5972915,6.09972,5.9409676,6.3142395,5.962465,5.953043,5.013281,4.6269994,4.455422,5.8570547,5.2044253,5.1517706,5.436769,5.1120243,6.514969,6.4383545,5.3666415,6.35844,6.0365934,5.9285116,6.5771303,5.939977,4.717825,4.56957,5.891987,5.7149577,6.430649,5.41293,5.4557896,6.110577,5.2020736,6.2772236,4.585395,5.8422103,5.763297,6.341542,5.3947725,6.4774013,4.8499627,5.287374,5.3274364,5.4929276,6.191861,4.670176,4.6817026,5.025046,4.636364,5.8530393,5.1571407,5.9053535,4.515171,6.4053903,6.761295,6.9577804,6.2158546,4.3516426,4.2923884,5.357473,6.839972,5.1530004,4.615014,4.610115,5.024484,5.8617897,5.2092447,6.357543,6.6861973,4.310279,6.051648,6.8378887,4.949108,6.9159946,6.1023703,6.155206,6.692081,5.3063993,6.192924,6.106064,5.5994296,6.555714,4.61381,6.426167,4.5654874,5.4307694],\"z\":[6.862652,6.7380934,7.832974,6.666813,7.7613997,6.249094,8.00665,7.0023847,7.931611,7.6136317,7.610025,7.549607,7.653904,6.536713,8.209219,6.7314916,7.1850967,7.2291274,7.6463094,7.69305,7.6458335,8.524997,7.653948,6.690937,7.9027643,6.4602485,7.605142,8.486866,8.693545,6.684416,7.1904616,8.260734,7.9952326,7.296362,7.019013,6.682218,7.588039,8.270953,7.2224193,7.739697,6.189752,7.2156816,6.3535633,8.3113,7.6891522,7.231891,6.9782553,8.547986,8.335473,9.045263,8.198836,8.128149,7.530916,7.8848844,8.175703,7.5267706,7.311889,7.97457,7.222489,7.8930955,6.57012,6.371895,7.3957567,8.478105,8.80539,6.1651373,6.709505,7.411455,6.837237,7.299163,8.4072275,7.649072,8.069327,6.798616,8.058267,6.720616,8.623383,7.182997,8.431049,6.1511884,9.061117,8.273029,7.802995,8.312493,6.330349,7.0013185,8.961786,7.297335,8.582555,6.4353285,7.901714,7.4042664,7.875382,8.964491,7.7861476,8.350709,8.394849,6.896067,7.314913,6.459805],\"type\":\"scatter3d\"}],                        {\"template\":{\"data\":{\"histogram2dcontour\":[{\"type\":\"histogram2dcontour\",\"colorbar\":{\"outlinewidth\":0,\"ticks\":\"\"},\"colorscale\":[[0.0,\"#0d0887\"],[0.1111111111111111,\"#46039f\"],[0.2222222222222222,\"#7201a8\"],[0.3333333333333333,\"#9c179e\"],[0.4444444444444444,\"#bd3786\"],[0.5555555555555556,\"#d8576b\"],[0.6666666666666666,\"#ed7953\"],[0.7777777777777778,\"#fb9f3a\"],[0.8888888888888888,\"#fdca26\"],[1.0,\"#f0f921\"]]}],\"choropleth\":[{\"type\":\"choropleth\",\"colorbar\":{\"outlinewidth\":0,\"ticks\":\"\"}}],\"histogram2d\":[{\"type\":\"histogram2d\",\"colorbar\":{\"outlinewidth\":0,\"ticks\":\"\"},\"colorscale\":[[0.0,\"#0d0887\"],[0.1111111111111111,\"#46039f\"],[0.2222222222222222,\"#7201a8\"],[0.3333333333333333,\"#9c179e\"],[0.4444444444444444,\"#bd3786\"],[0.5555555555555556,\"#d8576b\"],[0.6666666666666666,\"#ed7953\"],[0.7777777777777778,\"#fb9f3a\"],[0.8888888888888888,\"#fdca26\"],[1.0,\"#f0f921\"]]}],\"heatmap\":[{\"type\":\"heatmap\",\"colorbar\":{\"outlinewidth\":0,\"ticks\":\"\"},\"colorscale\":[[0.0,\"#0d0887\"],[0.1111111111111111,\"#46039f\"],[0.2222222222222222,\"#7201a8\"],[0.3333333333333333,\"#9c179e\"],[0.4444444444444444,\"#bd3786\"],[0.5555555555555556,\"#d8576b\"],[0.6666666666666666,\"#ed7953\"],[0.7777777777777778,\"#fb9f3a\"],[0.8888888888888888,\"#fdca26\"],[1.0,\"#f0f921\"]]}],\"heatmapgl\":[{\"type\":\"heatmapgl\",\"colorbar\":{\"outlinewidth\":0,\"ticks\":\"\"},\"colorscale\":[[0.0,\"#0d0887\"],[0.1111111111111111,\"#46039f\"],[0.2222222222222222,\"#7201a8\"],[0.3333333333333333,\"#9c179e\"],[0.4444444444444444,\"#bd3786\"],[0.5555555555555556,\"#d8576b\"],[0.6666666666666666,\"#ed7953\"],[0.7777777777777778,\"#fb9f3a\"],[0.8888888888888888,\"#fdca26\"],[1.0,\"#f0f921\"]]}],\"contourcarpet\":[{\"type\":\"contourcarpet\",\"colorbar\":{\"outlinewidth\":0,\"ticks\":\"\"}}],\"contour\":[{\"type\":\"contour\",\"colorbar\":{\"outlinewidth\":0,\"ticks\":\"\"},\"colorscale\":[[0.0,\"#0d0887\"],[0.1111111111111111,\"#46039f\"],[0.2222222222222222,\"#7201a8\"],[0.3333333333333333,\"#9c179e\"],[0.4444444444444444,\"#bd3786\"],[0.5555555555555556,\"#d8576b\"],[0.6666666666666666,\"#ed7953\"],[0.7777777777777778,\"#fb9f3a\"],[0.8888888888888888,\"#fdca26\"],[1.0,\"#f0f921\"]]}],\"surface\":[{\"type\":\"surface\",\"colorbar\":{\"outlinewidth\":0,\"ticks\":\"\"},\"colorscale\":[[0.0,\"#0d0887\"],[0.1111111111111111,\"#46039f\"],[0.2222222222222222,\"#7201a8\"],[0.3333333333333333,\"#9c179e\"],[0.4444444444444444,\"#bd3786\"],[0.5555555555555556,\"#d8576b\"],[0.6666666666666666,\"#ed7953\"],[0.7777777777777778,\"#fb9f3a\"],[0.8888888888888888,\"#fdca26\"],[1.0,\"#f0f921\"]]}],\"mesh3d\":[{\"type\":\"mesh3d\",\"colorbar\":{\"outlinewidth\":0,\"ticks\":\"\"}}],\"scatter\":[{\"fillpattern\":{\"fillmode\":\"overlay\",\"size\":10,\"solidity\":0.2},\"type\":\"scatter\"}],\"parcoords\":[{\"type\":\"parcoords\",\"line\":{\"colorbar\":{\"outlinewidth\":0,\"ticks\":\"\"}}}],\"scatterpolargl\":[{\"type\":\"scatterpolargl\",\"marker\":{\"colorbar\":{\"outlinewidth\":0,\"ticks\":\"\"}}}],\"bar\":[{\"error_x\":{\"color\":\"#2a3f5f\"},\"error_y\":{\"color\":\"#2a3f5f\"},\"marker\":{\"line\":{\"color\":\"#E5ECF6\",\"width\":0.5},\"pattern\":{\"fillmode\":\"overlay\",\"size\":10,\"solidity\":0.2}},\"type\":\"bar\"}],\"scattergeo\":[{\"type\":\"scattergeo\",\"marker\":{\"colorbar\":{\"outlinewidth\":0,\"ticks\":\"\"}}}],\"scatterpolar\":[{\"type\":\"scatterpolar\",\"marker\":{\"colorbar\":{\"outlinewidth\":0,\"ticks\":\"\"}}}],\"histogram\":[{\"marker\":{\"pattern\":{\"fillmode\":\"overlay\",\"size\":10,\"solidity\":0.2}},\"type\":\"histogram\"}],\"scattergl\":[{\"type\":\"scattergl\",\"marker\":{\"colorbar\":{\"outlinewidth\":0,\"ticks\":\"\"}}}],\"scatter3d\":[{\"type\":\"scatter3d\",\"line\":{\"colorbar\":{\"outlinewidth\":0,\"ticks\":\"\"}},\"marker\":{\"colorbar\":{\"outlinewidth\":0,\"ticks\":\"\"}}}],\"scattermapbox\":[{\"type\":\"scattermapbox\",\"marker\":{\"colorbar\":{\"outlinewidth\":0,\"ticks\":\"\"}}}],\"scatterternary\":[{\"type\":\"scatterternary\",\"marker\":{\"colorbar\":{\"outlinewidth\":0,\"ticks\":\"\"}}}],\"scattercarpet\":[{\"type\":\"scattercarpet\",\"marker\":{\"colorbar\":{\"outlinewidth\":0,\"ticks\":\"\"}}}],\"carpet\":[{\"aaxis\":{\"endlinecolor\":\"#2a3f5f\",\"gridcolor\":\"white\",\"linecolor\":\"white\",\"minorgridcolor\":\"white\",\"startlinecolor\":\"#2a3f5f\"},\"baxis\":{\"endlinecolor\":\"#2a3f5f\",\"gridcolor\":\"white\",\"linecolor\":\"white\",\"minorgridcolor\":\"white\",\"startlinecolor\":\"#2a3f5f\"},\"type\":\"carpet\"}],\"table\":[{\"cells\":{\"fill\":{\"color\":\"#EBF0F8\"},\"line\":{\"color\":\"white\"}},\"header\":{\"fill\":{\"color\":\"#C8D4E3\"},\"line\":{\"color\":\"white\"}},\"type\":\"table\"}],\"barpolar\":[{\"marker\":{\"line\":{\"color\":\"#E5ECF6\",\"width\":0.5},\"pattern\":{\"fillmode\":\"overlay\",\"size\":10,\"solidity\":0.2}},\"type\":\"barpolar\"}],\"pie\":[{\"automargin\":true,\"type\":\"pie\"}]},\"layout\":{\"autotypenumbers\":\"strict\",\"colorway\":[\"#636efa\",\"#EF553B\",\"#00cc96\",\"#ab63fa\",\"#FFA15A\",\"#19d3f3\",\"#FF6692\",\"#B6E880\",\"#FF97FF\",\"#FECB52\"],\"font\":{\"color\":\"#2a3f5f\"},\"hovermode\":\"closest\",\"hoverlabel\":{\"align\":\"left\"},\"paper_bgcolor\":\"white\",\"plot_bgcolor\":\"#E5ECF6\",\"polar\":{\"bgcolor\":\"#E5ECF6\",\"angularaxis\":{\"gridcolor\":\"white\",\"linecolor\":\"white\",\"ticks\":\"\"},\"radialaxis\":{\"gridcolor\":\"white\",\"linecolor\":\"white\",\"ticks\":\"\"}},\"ternary\":{\"bgcolor\":\"#E5ECF6\",\"aaxis\":{\"gridcolor\":\"white\",\"linecolor\":\"white\",\"ticks\":\"\"},\"baxis\":{\"gridcolor\":\"white\",\"linecolor\":\"white\",\"ticks\":\"\"},\"caxis\":{\"gridcolor\":\"white\",\"linecolor\":\"white\",\"ticks\":\"\"}},\"coloraxis\":{\"colorbar\":{\"outlinewidth\":0,\"ticks\":\"\"}},\"colorscale\":{\"sequential\":[[0.0,\"#0d0887\"],[0.1111111111111111,\"#46039f\"],[0.2222222222222222,\"#7201a8\"],[0.3333333333333333,\"#9c179e\"],[0.4444444444444444,\"#bd3786\"],[0.5555555555555556,\"#d8576b\"],[0.6666666666666666,\"#ed7953\"],[0.7777777777777778,\"#fb9f3a\"],[0.8888888888888888,\"#fdca26\"],[1.0,\"#f0f921\"]],\"sequentialminus\":[[0.0,\"#0d0887\"],[0.1111111111111111,\"#46039f\"],[0.2222222222222222,\"#7201a8\"],[0.3333333333333333,\"#9c179e\"],[0.4444444444444444,\"#bd3786\"],[0.5555555555555556,\"#d8576b\"],[0.6666666666666666,\"#ed7953\"],[0.7777777777777778,\"#fb9f3a\"],[0.8888888888888888,\"#fdca26\"],[1.0,\"#f0f921\"]],\"diverging\":[[0,\"#8e0152\"],[0.1,\"#c51b7d\"],[0.2,\"#de77ae\"],[0.3,\"#f1b6da\"],[0.4,\"#fde0ef\"],[0.5,\"#f7f7f7\"],[0.6,\"#e6f5d0\"],[0.7,\"#b8e186\"],[0.8,\"#7fbc41\"],[0.9,\"#4d9221\"],[1,\"#276419\"]]},\"xaxis\":{\"gridcolor\":\"white\",\"linecolor\":\"white\",\"ticks\":\"\",\"title\":{\"standoff\":15},\"zerolinecolor\":\"white\",\"automargin\":true,\"zerolinewidth\":2},\"yaxis\":{\"gridcolor\":\"white\",\"linecolor\":\"white\",\"ticks\":\"\",\"title\":{\"standoff\":15},\"zerolinecolor\":\"white\",\"automargin\":true,\"zerolinewidth\":2},\"scene\":{\"xaxis\":{\"backgroundcolor\":\"#E5ECF6\",\"gridcolor\":\"white\",\"linecolor\":\"white\",\"showbackground\":true,\"ticks\":\"\",\"zerolinecolor\":\"white\",\"gridwidth\":2},\"yaxis\":{\"backgroundcolor\":\"#E5ECF6\",\"gridcolor\":\"white\",\"linecolor\":\"white\",\"showbackground\":true,\"ticks\":\"\",\"zerolinecolor\":\"white\",\"gridwidth\":2},\"zaxis\":{\"backgroundcolor\":\"#E5ECF6\",\"gridcolor\":\"white\",\"linecolor\":\"white\",\"showbackground\":true,\"ticks\":\"\",\"zerolinecolor\":\"white\",\"gridwidth\":2}},\"shapedefaults\":{\"line\":{\"color\":\"#2a3f5f\"}},\"annotationdefaults\":{\"arrowcolor\":\"#2a3f5f\",\"arrowhead\":0,\"arrowwidth\":1},\"geo\":{\"bgcolor\":\"white\",\"landcolor\":\"#E5ECF6\",\"subunitcolor\":\"white\",\"showland\":true,\"showlakes\":true,\"lakecolor\":\"white\"},\"title\":{\"x\":0.05},\"mapbox\":{\"style\":\"light\"}}},\"scene\":{\"domain\":{\"x\":[0.0,1.0],\"y\":[0.0,1.0]},\"xaxis\":{\"title\":{\"text\":\"0\"}},\"yaxis\":{\"title\":{\"text\":\"1\"}},\"zaxis\":{\"title\":{\"text\":\"2\"}}},\"legend\":{\"tracegroupgap\":0},\"margin\":{\"t\":0,\"l\":0,\"r\":0,\"b\":0}},                        {\"responsive\": true}                    ).then(function(){\n",
       "                            \n",
       "var gd = document.getElementById('3274e2e3-19e1-43f7-ae1e-78014e56d06d');\n",
       "var x = new MutationObserver(function (mutations, observer) {{\n",
       "        var display = window.getComputedStyle(gd).display;\n",
       "        if (!display || display === 'none') {{\n",
       "            console.log([gd, 'removed!']);\n",
       "            Plotly.purge(gd);\n",
       "            observer.disconnect();\n",
       "        }}\n",
       "}});\n",
       "\n",
       "// Listen for the removal of the full notebook cells\n",
       "var notebookContainer = gd.closest('#notebook-container');\n",
       "if (notebookContainer) {{\n",
       "    x.observe(notebookContainer, {childList: true});\n",
       "}}\n",
       "\n",
       "// Listen for the clearing of the current output cell\n",
       "var outputEl = gd.closest('.output');\n",
       "if (outputEl) {{\n",
       "    x.observe(outputEl, {childList: true});\n",
       "}}\n",
       "\n",
       "                        })                };                });            </script>        </div>"
      ]
     },
     "metadata": {},
     "output_type": "display_data"
    }
   ],
   "source": [
    "import plotly.express as px\n",
    "fig = px.scatter_3d(mapped.embedding_, x=0, y=1, z=2, size_max=1)\n",
    "\n",
    "# tight layout\n",
    "fig.update_layout(margin=dict(l=0, r=0, b=0, t=0))\n",
    "fig.show()"
   ]
  },
  {
   "cell_type": "code",
   "execution_count": 9,
   "id": "b51b27a7-7942-48b8-8df5-5cfe8b97e240",
   "metadata": {},
   "outputs": [
    {
     "data": {
      "application/vnd.plotly.v1+json": {
       "config": {
        "plotlyServerURL": "https://plot.ly"
       },
       "data": [
        {
         "hovertemplate": "0=%{r}<extra></extra>",
         "legendgroup": "",
         "marker": {
          "color": "#636efa",
          "pattern": {
           "shape": ""
          }
         },
         "name": "",
         "r": [
          0.7961621558708969,
          0.10224103110093119,
          0.0030783898828534717,
          0.2217866003322334,
          0.44585799209656807,
          0.3606317449378508,
          0.9166911935425281,
          0.7924444535531504,
          0.5608047789041255,
          0.48732304088891065,
          0.22323246070971836,
          0.6630042683265273,
          0.1810726795597274,
          0.11193893900664631,
          0.8398612490392513,
          0.5677491562509895,
          0.8184374701476967,
          0.052498410802618745,
          0.04199705534673914,
          0.5345563263814486,
          0.5971612398850629,
          0.15491122787784561,
          0.6854879305899788,
          0.41820334433607553,
          0.20172200531581497,
          0.19884770944238506,
          0.11215646548485636,
          0.2760790794274962,
          0.31335886079061837,
          0.934248061404993,
          0.8521535989666674,
          0.27106465049402406,
          0.3070410062550445,
          0.049430327113253014,
          0.7483096069731472,
          0.6708682055520448,
          0.31050361944446336,
          0.024991267209219514,
          0.07429716968025224,
          0.7069806327011587,
          0.8667946459362682,
          0.9024796562025075,
          0.6882305534375076,
          0.4071588036760263,
          0.37959019789544535,
          0.5147896908529055,
          0.002060792440859771,
          0.40294872599292886,
          0.0814432587218864,
          0.9957037353577015,
          0.526776027216321,
          0.9616172986251774,
          0.472781968928354,
          0.8177253551488355,
          0.7141256005705257,
          0.08842253866184469,
          0.6869216636824796,
          0.05947940862055301,
          0.7643416343952908,
          0.7192416806487696,
          0.20404601180535353,
          0.12621514839342152,
          0.7264613022279349,
          0.6923444173711711,
          0.9950277141741587,
          0.09764976359953292,
          0.9328660514126904,
          0.10255946527094473,
          0.45935257317499156,
          0.2498350837767388,
          0.8169680910407424,
          0.6159353519992868,
          0.8913533604257209,
          0.6639662204289299,
          0.14110718620414286,
          0.0162206901232701,
          0.9041464904121352,
          0.7522968959939101,
          0.8063821960321809,
          0.01870606431506805,
          0.22688482996833637,
          0.09580865505085301,
          0.4378252842947322,
          0.568359002351379,
          0.8345807573534222,
          0.1590511199227348,
          0.6124878232090268,
          0.16594346212207967,
          0.7168494120382373,
          0.4267415465141019,
          0.7492244146708128,
          0.2943580273051746,
          0.755150835515095,
          0.6009517768780771,
          0.1202919585702461,
          0.4924055663153375,
          0.5984626766991056,
          0.4722483737161285,
          0.5898955923947768,
          0.7281838822978784,
          0.4178111825700672,
          0.2588833464406899,
          0.7145119827277807,
          0.012153350281151831,
          0.7592762460013607,
          0.5727770227192465,
          0.7729034802633888,
          0.30787635275205216,
          0.21601827341822222,
          0.49302664415004316,
          0.9203716832917881,
          0.7960467666618558,
          0.058686646268608644,
          0.8218415928952093,
          0.6901316049043285,
          0.5035430382353497,
          0.33466084440503163,
          0.23042228934489617,
          0.10429764830305188,
          0.7716913125252678,
          0.8996520279638873,
          0.663675972012048,
          0.6993799135388835,
          0.9350665915399513,
          0.8122662815278843,
          0.5449487882131416,
          0.9846466010302839,
          0.08613465332128134,
          0.17455610903078922,
          0.7626947168756912,
          0.48070460566375983,
          0.5959957246890977,
          0.5826222555344991,
          0.5385154083738855,
          0.9912912543114076,
          0.5752476006644177,
          0.5077277112510774,
          0.45393312238480554,
          0.9877301459856378,
          0.579875114861214,
          0.8285265686750632,
          0.7029192336770081,
          0.9232558602434692,
          0.3544811131203268,
          0.9382980532367728,
          0.24961670932627766,
          0.1151476619142503,
          0.6125493296694954,
          0.7654100982497267,
          0.8750971615176323,
          0.7541375897869136,
          0.2751230855655381,
          0.2242370645942684,
          0.06288676813757577,
          0.7333216387098832,
          0.4299649332720621,
          0.2012679801174322,
          0.953947129859998,
          0.8236123363694474,
          0.723459150198028,
          0.5829840706696857,
          0.4427266184385069,
          0.4620400013117121,
          0.9610634486064,
          0.9872349252986121,
          0.6059281004017654,
          0.6673860581402268,
          0.9670174924017049,
          0.1250929603049462,
          0.9754094787274211,
          0.649367433526264,
          0.5848600381044463,
          0.8264739994736248,
          0.5403687009599203,
          0.7111077136525865,
          0.06085120865402183,
          0.03700657062218626,
          0.63294740096276,
          0.05948887804381231,
          0.9558579919816673,
          0.6535873081341294,
          0.8194045660853289,
          0.2931354141581485,
          0.21636174127177754,
          0.2835837259990811,
          0.22060572453756622,
          0.34920514614939513,
          0.0015484680386750327,
          0.12852628060079896,
          0.08868142497175147,
          0.6919780099094389,
          0.19345892225120687,
          0.07352224354411896,
          0.6064064887680481,
          0.9350587328379637,
          0.005475645819246977,
          0.759265002292625,
          0.04625302419372568,
          0.8485107113992946,
          0.925335160087705,
          0.9334054012566888,
          0.6075479111127365,
          0.2080396722274489,
          0.1734719507366307,
          0.5271205248391829,
          0.9402851941453422,
          0.001716631951597769,
          0.6133312113568459,
          0.023679280382545853,
          0.5040926650794472,
          0.8413935033567774,
          0.17905588434897823,
          0.5320474938556954,
          0.7695211238509749,
          0.7635400684175051,
          0.10619299757222966,
          0.9329556091623549,
          0.8262711229197923,
          0.4100715077589784,
          0.7283455876341913,
          0.6330081374573885,
          0.02950450321630238,
          0.1457661912726279,
          0.5354510231457331,
          0.3385423006881645,
          0.157924806215462,
          0.9836212708817669,
          0.11697581146881075,
          0.46415293030860305,
          0.13380090032191694,
          0.14894232852969846,
          0.29744065710722556,
          0.6297654554612738,
          0.8687563395633254,
          0.7622644944644307,
          0.9829713619777913,
          0.1847932654759309,
          0.0527196787562757,
          0.7449491691853046,
          0.12375134669555654,
          0.2996858704697548,
          0.3306673551635513,
          0.5060520305089528,
          0.9988277953916707,
          0.2284331746097864,
          0.0354483160820811,
          0.5939676835224892,
          0.23456328498585188,
          0.7833696349314637,
          0.017026586808621014,
          0.2106312055987417,
          0.3399112441964699,
          0.2094764311556574,
          0.8933154830612123,
          0.6047494929886759,
          0.9121201594169953,
          0.007874150601232976,
          0.49894848914930945,
          0.8225775665521926,
          0.6226743968422273,
          0.5539256439185272,
          0.9100003363480155,
          0.3908609009415366,
          0.6941906750921167,
          0.5311844448264906,
          0.8002997843849244,
          0.47003055253874426,
          0.7978698400058778,
          0.567232985317195,
          0.9974783859150222,
          0.8658717859996928,
          0.40515177095334964,
          0.5301628462167612,
          0.6407337184652767,
          0.047641882766367605,
          0.4601178108082049,
          0.2742958505830395,
          0.15457677921399804,
          0.8243996076062612,
          0.1038460275413049,
          0.8389663165900614,
          0.7599995239198019,
          0.3484829898722529,
          0.6808587080209368,
          0.24014236127650634,
          0.8548655905964407,
          0.24261583275720655,
          0.3894426408890165,
          0.16103382768114927,
          0.8563274405598114,
          0.7545397273396776,
          0.4666389217972755,
          0.022549264815070136,
          0.28818400732752014,
          0.21835365053455236,
          0.02198673859767941,
          0.2897452012299998,
          0.19589340386753895,
          0.7125898961821049,
          0.7768069261764194,
          0.364629920136887,
          0.8759015386528533,
          0.46923291953127,
          0.23747419934426617,
          0.7702775424826953,
          0.05412125357505404,
          0.9392747532528724,
          0.05314519632488324,
          0.984276137675597,
          0.2587561885658133,
          0.010970323166688556,
          0.43625165601128046,
          0.5646242561817446,
          0.5793532424318568,
          0.09055267357397467,
          0.42168251738525164,
          0.8291327651531858,
          0.3588090033891165,
          0.8081258224974356,
          0.317324675911813,
          0.08072033226269526,
          0.9291539255206664,
          0.5229651395873111,
          0.41730735717542133,
          0.9054135772647114,
          0.3087960562395492,
          0.924087901672984,
          0.00978620302793709,
          0.11341950118959532,
          0.9356193352205895,
          0.893850301549177,
          0.5060390613942842,
          0.4702381890106164,
          0.5246313715358351,
          0.9865668304731053,
          0.6405144980317828,
          0.12882516913267772,
          0.805827316164427,
          0.7554422445841876,
          0.1017841609240403,
          0.7508978821725035,
          0.5062456962679266,
          0.9094223033224873,
          0.7659720524336618,
          0.444143245808699,
          0.3467560073748721,
          0.3371070141259872,
          0.6403533199182831,
          0.9465437398670125,
          0.2441360056186097,
          0.6300068704462035,
          0.7073896904920307,
          0.394119765703435,
          0.6272993055800714,
          0.6972394121510485,
          0.14940910021151554,
          0.7556743634292147,
          0.8992955235205577,
          0.17739366715146387,
          0.4807441952762175,
          0.04546243215450552,
          0.566100447721441,
          0.17279597473686026,
          0.7892665372468987,
          0.3834092517802632,
          0.07187776973300652,
          0.24023829445405098,
          0.9744384256121014,
          0.40887233281725566,
          0.7165790425394807,
          0.17250086545854337,
          0.07864798409923512,
          0.015009789256425932,
          0.6347496367370381,
          0.16931329236353643,
          0.9695883862236706,
          0.31036751372287963,
          0.9644367483772971,
          0.07534892009220129,
          0.8457900213994409,
          0.35439936203538924,
          0.5292882764430661,
          0.6343932190490069,
          0.8396001828144911,
          0.7811179868088912,
          0.7301438766296395,
          0.7368865626417774,
          0.11670361302949561,
          0.13420841607926415,
          0.8940316382051257,
          0.035284673756625806,
          0.4485908553257524,
          0.048418113010596286,
          0.7822039400136034,
          0.76072567358324,
          0.007939840704312418,
          0.65736985875403,
          0.444215408357164,
          0.8105791877349607,
          0.4585748716261311,
          0.6269201283746357,
          0.044339800981305855,
          0.4486515656376636,
          0.6983567114762468,
          0.7804756106278189,
          0.6142447997413036,
          0.5029301175845614,
          0.25160798705418175,
          0.19383440798805818,
          0.08505405976652913,
          0.2578697110776691,
          0.11521243868750408,
          0.9996198745501796,
          0.5832553451466889,
          0.6076687671188024,
          0.8826373515992343,
          0.0605043272948409,
          0.037789968698338616,
          0.8237043028608322,
          0.6390874143360297,
          0.11292799163438727,
          0.8747526356058957,
          0.9340342414059044,
          0.931532864911504,
          0.3556609043819804,
          0.5448411349235244,
          0.633552258563977,
          0.03445814679802495,
          0.8001922964102955,
          0.37280311921998144,
          0.31386291152173207,
          0.9573808265363211,
          0.23477409419066964,
          0.4448931877851444,
          0.3537412973930997,
          0.32460619763812937,
          0.8265856625701875,
          0.33250267572493,
          0.5011667747208137,
          0.5220677303098115,
          0.8577789019047134,
          0.26452897119837737,
          0.16066678989117034,
          5.628978237381954e-05,
          0.5353723573559328,
          0.9474264145498028,
          0.4724378664861988,
          0.4699257563546293,
          0.9417188922463949,
          0.4485122299644353,
          0.1259634807300517,
          0.5935314498125926,
          0.4004635752667768,
          0.8752593990995426,
          0.3000710557309074,
          0.7053856166102577,
          0.9846096450186067,
          0.8328658363394308,
          0.03774189659196836,
          0.3207311725424967,
          0.9181397907377644,
          0.2605635896107127,
          0.6388120431413089,
          0.249816841873037,
          0.9306238569612255,
          0.23711661611252222,
          0.5003205855483912,
          0.17592641461094782,
          0.7540506457385763,
          0.604907870633291,
          0.8686150030638794,
          0.9754464192463502,
          0.9413171585558185,
          0.35662813400526994,
          0.015960869518708343,
          0.7290509609626743,
          0.7134329212237237,
          0.38215210405371536,
          0.15970007213176818,
          0.42622221365170954,
          0.7102618658348923,
          0.9989694091075998,
          0.5599973957274854,
          0.16283002596221108,
          0.4063717430985335,
          0.4794523950198458,
          0.4091617224273615,
          0.9569391777009596,
          0.9180592152840493,
          0.9555829540790164,
          0.14944469256783066,
          0.8018000046446726,
          0.8102075414997254,
          0.6540730056067899,
          0.5300754800273259,
          0.5874386090470731,
          0.1628282562117388,
          0.8019830972904844,
          0.769921610806006,
          0.23224863132787898,
          0.3224287692320915,
          0.5723340637334666,
          0.33011019392620466,
          0.3258254769453621,
          0.8762833131797184,
          0.7496513066053587,
          0.4450893234601375,
          0.3929381185607457,
          0.2990697890752353,
          0.3148591261405137,
          0.4357949023789992,
          0.1860923607063958,
          0.40052423300889994,
          0.5289358341744246,
          0.22612953873212926,
          0.3301201673736036,
          0.25179146402826114,
          0.8195384024887259,
          0.24918628006344434,
          0.06050651654376693,
          0.8083172922649975,
          0.4321445307454602,
          0.8466111040711062,
          0.9310846584610069,
          0.5523937053077747,
          0.07255937263886325,
          0.7185413687204157,
          0.7814027700054743,
          0.6165781411618457,
          0.05267946815192559,
          0.6910438971337153,
          0.11829167987378564,
          0.640693567316109,
          0.6610297091261746,
          0.21236850770922544,
          0.9976297294564874,
          0.893934040006447,
          0.30193064779646406,
          0.7056882605493324,
          0.10803003823470325,
          0.1888140243104639,
          0.43156965520982604,
          0.17163576076335763,
          0.8249786648474167,
          0.3751662765579582,
          0.19383883374666133,
          0.4242286327028447,
          0.5202274392815815,
          0.8118473829725884,
          0.1929611578634307,
          0.2145303782000465,
          0.09927621766006256,
          0.28034408556907875,
          0.845520629953601,
          0.12707672610551213,
          0.5101043667715522,
          0.5055785571460244,
          0.27896620225056423,
          0.9566162618622353,
          0.8125782888592353,
          0.6590160285040483,
          0.5861518786125097,
          0.7829560491938996,
          0.25935062352563676,
          0.06812873465344704,
          0.34390074514869506,
          0.8895444328674662,
          0.9846438939826223,
          0.07433461312982792,
          0.42885652106918226,
          0.9999663187550313,
          0.21743284914031435,
          0.7268741982126867,
          0.016979695390255123,
          0.1578173309856452,
          0.12366301910905442,
          0.6429949455926496,
          0.8457810515520506,
          0.33426950678794976,
          0.5273271169882184,
          0.46199971466539314,
          0.8468866879862519,
          0.32152364994150306,
          0.4500375489732791,
          0.5138323103272487,
          0.8285564222745013,
          0.7447476241381099,
          0.2374986180680796,
          0.3706511184305441,
          0.8991999508624086,
          0.6989735600097668,
          0.534370327963547,
          0.360468322247549,
          0.91491060389302,
          0.007714520284952786,
          0.17866588752842405,
          0.05164451129063086,
          0.32204652954472457,
          0.8575071895315265,
          0.6094643742355053,
          0.9258901835438332,
          0.16811763347726816,
          0.5016053883660858,
          0.33029619208434235,
          0.620616011291224,
          0.4077302605280355,
          0.2038822740953795,
          0.27713476476684706,
          0.43511213432586326,
          0.3985441841458095,
          0.3628801191890292,
          0.01238081535464497,
          0.42735962144744644,
          0.733246089060039,
          0.6254076732901874,
          0.4824045274758375,
          0.7824811751488804,
          0.3353299071802113,
          0.21204961632665376,
          0.12298286072642306,
          0.12398840638441955,
          0.26840004155145014,
          0.44398646332409675,
          0.9067870584874147,
          0.4873667716343518,
          0.46031256368632667,
          0.9780742212170819,
          0.4734847491864367,
          0.8114811511096197,
          0.3190460667071843,
          0.3810062005637366,
          0.6591583479048264,
          0.8037598148518164,
          0.18040509079090894,
          0.06773078164043977,
          0.6770128953338762,
          0.5467567361748027,
          0.4291914505660651,
          0.2981356142985635,
          0.8953981271455648,
          0.33917998111081626,
          0.18805002466596676,
          0.39744751008091594,
          0.32714904894431995,
          0.36513556147641213,
          0.4936314960098277,
          0.09202686191856635,
          0.06452195945095884,
          0.7448955837593765,
          0.12002473748386189,
          0.549209421759901,
          0.7649370502152548,
          0.5047074769887451,
          0.604615812772886,
          0.39178311431652224,
          0.3912127888744985,
          0.6977876004759364,
          0.6565119586806989,
          0.9507632000221564,
          0.47151011569378865,
          0.41155562375431376,
          0.3329095547652198,
          0.9100600826007468,
          0.8472596015797391,
          0.23044006940186967,
          0.687219183713325,
          0.7350933097626035,
          0.6458872405077063,
          0.9372100857768798,
          0.8620000323357433,
          0.15677394137377776,
          0.46170538784210247,
          0.49867567449456174,
          0.6471243770353748,
          0.6349182735031099,
          0.24601777896000854,
          0.23251957758217212,
          0.9202789555664378,
          0.5426309935568138,
          0.3933389498661948,
          0.06541846607359258,
          0.7253746030697147,
          0.5560296425830895,
          0.9735203978958816,
          0.9065374002287163,
          0.7584234723155017,
          0.6072821723654663,
          0.07290776777834052,
          0.6438486079948902,
          0.5405879561374229,
          0.3460456129701521,
          0.12306949417476987,
          0.006106658185930369,
          0.3773728715221282,
          0.35211822065245746,
          0.7566083193161415,
          0.4652271839196842,
          0.05093410669234566,
          0.4620661062674072,
          0.34294931791454786,
          0.5402558417801168,
          0.4702775228000976,
          0.734084108778777,
          0.33473407536104616,
          0.930315240584053,
          0.9043713761769769,
          0.5418311551864475,
          0.8890754808819791,
          0.5066008817755893,
          0.21388719134936351,
          0.45967860753364287,
          0.28049004665177313,
          0.5514403491890982,
          0.6045678835930952,
          0.36773824448466397,
          0.17238558294121076,
          0.6255635953709967,
          0.8700936707270769,
          0.1367220801313319,
          0.3861745271364714,
          0.04914776815949984,
          0.7222989513494673,
          0.5943142170508046,
          0.20370793409079213,
          0.2305296597455898,
          0.04565691029343011,
          0.24460105194682003,
          0.9659839570334396,
          0.008460150990985293,
          0.1515665753767067,
          0.9664476899958889,
          0.3460242434680767,
          0.4872914532736685,
          0.2372302987683106,
          0.8983628732348581,
          0.6453054583482889,
          0.48840018142913655,
          0.7752327581155832,
          0.32502346724780296,
          0.8495814289253754,
          0.11446928954569913,
          0.518989804206649,
          0.9134026563763343,
          0.2225696770471317,
          0.5953593463905676,
          0.6741818513706545,
          0.6865279529264052,
          0.7418794104051291,
          0.6110703354684104,
          0.7858081434632663,
          0.25022644445113706,
          0.05904343215814467,
          0.7806631352428314,
          0.7898063939219893,
          0.9245039091198117,
          0.422810775097599,
          0.5202182065590754,
          0.531795907989087,
          0.9361138909234356,
          0.6643816054015944,
          0.2843996246672609,
          0.41096475949177835,
          0.08529216857439592,
          0.5863548971678325,
          0.6077927249222327,
          0.7753142802024079,
          0.5863757077958827,
          0.2668391113735259
         ],
         "showlegend": false,
         "subplot": "polar",
         "type": "barpolar"
        }
       ],
       "layout": {
        "autosize": true,
        "barmode": "relative",
        "legend": {
         "tracegroupgap": 0
        },
        "margin": {
         "b": 0,
         "l": 0,
         "r": 0,
         "t": 0
        },
        "polar": {
         "angularaxis": {
          "direction": "clockwise",
          "rotation": 90
         },
         "domain": {
          "x": [
           0,
           1
          ],
          "y": [
           0,
           1
          ]
         },
         "radialaxis": {
          "autorange": true,
          "range": [
           0,
           1.052596125005296
          ],
          "type": "linear"
         }
        },
        "template": {
         "data": {
          "bar": [
           {
            "error_x": {
             "color": "#2a3f5f"
            },
            "error_y": {
             "color": "#2a3f5f"
            },
            "marker": {
             "line": {
              "color": "#E5ECF6",
              "width": 0.5
             },
             "pattern": {
              "fillmode": "overlay",
              "size": 10,
              "solidity": 0.2
             }
            },
            "type": "bar"
           }
          ],
          "barpolar": [
           {
            "marker": {
             "line": {
              "color": "#E5ECF6",
              "width": 0.5
             },
             "pattern": {
              "fillmode": "overlay",
              "size": 10,
              "solidity": 0.2
             }
            },
            "type": "barpolar"
           }
          ],
          "carpet": [
           {
            "aaxis": {
             "endlinecolor": "#2a3f5f",
             "gridcolor": "white",
             "linecolor": "white",
             "minorgridcolor": "white",
             "startlinecolor": "#2a3f5f"
            },
            "baxis": {
             "endlinecolor": "#2a3f5f",
             "gridcolor": "white",
             "linecolor": "white",
             "minorgridcolor": "white",
             "startlinecolor": "#2a3f5f"
            },
            "type": "carpet"
           }
          ],
          "choropleth": [
           {
            "colorbar": {
             "outlinewidth": 0,
             "ticks": ""
            },
            "type": "choropleth"
           }
          ],
          "contour": [
           {
            "colorbar": {
             "outlinewidth": 0,
             "ticks": ""
            },
            "colorscale": [
             [
              0,
              "#0d0887"
             ],
             [
              0.1111111111111111,
              "#46039f"
             ],
             [
              0.2222222222222222,
              "#7201a8"
             ],
             [
              0.3333333333333333,
              "#9c179e"
             ],
             [
              0.4444444444444444,
              "#bd3786"
             ],
             [
              0.5555555555555556,
              "#d8576b"
             ],
             [
              0.6666666666666666,
              "#ed7953"
             ],
             [
              0.7777777777777778,
              "#fb9f3a"
             ],
             [
              0.8888888888888888,
              "#fdca26"
             ],
             [
              1,
              "#f0f921"
             ]
            ],
            "type": "contour"
           }
          ],
          "contourcarpet": [
           {
            "colorbar": {
             "outlinewidth": 0,
             "ticks": ""
            },
            "type": "contourcarpet"
           }
          ],
          "heatmap": [
           {
            "colorbar": {
             "outlinewidth": 0,
             "ticks": ""
            },
            "colorscale": [
             [
              0,
              "#0d0887"
             ],
             [
              0.1111111111111111,
              "#46039f"
             ],
             [
              0.2222222222222222,
              "#7201a8"
             ],
             [
              0.3333333333333333,
              "#9c179e"
             ],
             [
              0.4444444444444444,
              "#bd3786"
             ],
             [
              0.5555555555555556,
              "#d8576b"
             ],
             [
              0.6666666666666666,
              "#ed7953"
             ],
             [
              0.7777777777777778,
              "#fb9f3a"
             ],
             [
              0.8888888888888888,
              "#fdca26"
             ],
             [
              1,
              "#f0f921"
             ]
            ],
            "type": "heatmap"
           }
          ],
          "heatmapgl": [
           {
            "colorbar": {
             "outlinewidth": 0,
             "ticks": ""
            },
            "colorscale": [
             [
              0,
              "#0d0887"
             ],
             [
              0.1111111111111111,
              "#46039f"
             ],
             [
              0.2222222222222222,
              "#7201a8"
             ],
             [
              0.3333333333333333,
              "#9c179e"
             ],
             [
              0.4444444444444444,
              "#bd3786"
             ],
             [
              0.5555555555555556,
              "#d8576b"
             ],
             [
              0.6666666666666666,
              "#ed7953"
             ],
             [
              0.7777777777777778,
              "#fb9f3a"
             ],
             [
              0.8888888888888888,
              "#fdca26"
             ],
             [
              1,
              "#f0f921"
             ]
            ],
            "type": "heatmapgl"
           }
          ],
          "histogram": [
           {
            "marker": {
             "pattern": {
              "fillmode": "overlay",
              "size": 10,
              "solidity": 0.2
             }
            },
            "type": "histogram"
           }
          ],
          "histogram2d": [
           {
            "colorbar": {
             "outlinewidth": 0,
             "ticks": ""
            },
            "colorscale": [
             [
              0,
              "#0d0887"
             ],
             [
              0.1111111111111111,
              "#46039f"
             ],
             [
              0.2222222222222222,
              "#7201a8"
             ],
             [
              0.3333333333333333,
              "#9c179e"
             ],
             [
              0.4444444444444444,
              "#bd3786"
             ],
             [
              0.5555555555555556,
              "#d8576b"
             ],
             [
              0.6666666666666666,
              "#ed7953"
             ],
             [
              0.7777777777777778,
              "#fb9f3a"
             ],
             [
              0.8888888888888888,
              "#fdca26"
             ],
             [
              1,
              "#f0f921"
             ]
            ],
            "type": "histogram2d"
           }
          ],
          "histogram2dcontour": [
           {
            "colorbar": {
             "outlinewidth": 0,
             "ticks": ""
            },
            "colorscale": [
             [
              0,
              "#0d0887"
             ],
             [
              0.1111111111111111,
              "#46039f"
             ],
             [
              0.2222222222222222,
              "#7201a8"
             ],
             [
              0.3333333333333333,
              "#9c179e"
             ],
             [
              0.4444444444444444,
              "#bd3786"
             ],
             [
              0.5555555555555556,
              "#d8576b"
             ],
             [
              0.6666666666666666,
              "#ed7953"
             ],
             [
              0.7777777777777778,
              "#fb9f3a"
             ],
             [
              0.8888888888888888,
              "#fdca26"
             ],
             [
              1,
              "#f0f921"
             ]
            ],
            "type": "histogram2dcontour"
           }
          ],
          "mesh3d": [
           {
            "colorbar": {
             "outlinewidth": 0,
             "ticks": ""
            },
            "type": "mesh3d"
           }
          ],
          "parcoords": [
           {
            "line": {
             "colorbar": {
              "outlinewidth": 0,
              "ticks": ""
             }
            },
            "type": "parcoords"
           }
          ],
          "pie": [
           {
            "automargin": true,
            "type": "pie"
           }
          ],
          "scatter": [
           {
            "fillpattern": {
             "fillmode": "overlay",
             "size": 10,
             "solidity": 0.2
            },
            "type": "scatter"
           }
          ],
          "scatter3d": [
           {
            "line": {
             "colorbar": {
              "outlinewidth": 0,
              "ticks": ""
             }
            },
            "marker": {
             "colorbar": {
              "outlinewidth": 0,
              "ticks": ""
             }
            },
            "type": "scatter3d"
           }
          ],
          "scattercarpet": [
           {
            "marker": {
             "colorbar": {
              "outlinewidth": 0,
              "ticks": ""
             }
            },
            "type": "scattercarpet"
           }
          ],
          "scattergeo": [
           {
            "marker": {
             "colorbar": {
              "outlinewidth": 0,
              "ticks": ""
             }
            },
            "type": "scattergeo"
           }
          ],
          "scattergl": [
           {
            "marker": {
             "colorbar": {
              "outlinewidth": 0,
              "ticks": ""
             }
            },
            "type": "scattergl"
           }
          ],
          "scattermapbox": [
           {
            "marker": {
             "colorbar": {
              "outlinewidth": 0,
              "ticks": ""
             }
            },
            "type": "scattermapbox"
           }
          ],
          "scatterpolar": [
           {
            "marker": {
             "colorbar": {
              "outlinewidth": 0,
              "ticks": ""
             }
            },
            "type": "scatterpolar"
           }
          ],
          "scatterpolargl": [
           {
            "marker": {
             "colorbar": {
              "outlinewidth": 0,
              "ticks": ""
             }
            },
            "type": "scatterpolargl"
           }
          ],
          "scatterternary": [
           {
            "marker": {
             "colorbar": {
              "outlinewidth": 0,
              "ticks": ""
             }
            },
            "type": "scatterternary"
           }
          ],
          "surface": [
           {
            "colorbar": {
             "outlinewidth": 0,
             "ticks": ""
            },
            "colorscale": [
             [
              0,
              "#0d0887"
             ],
             [
              0.1111111111111111,
              "#46039f"
             ],
             [
              0.2222222222222222,
              "#7201a8"
             ],
             [
              0.3333333333333333,
              "#9c179e"
             ],
             [
              0.4444444444444444,
              "#bd3786"
             ],
             [
              0.5555555555555556,
              "#d8576b"
             ],
             [
              0.6666666666666666,
              "#ed7953"
             ],
             [
              0.7777777777777778,
              "#fb9f3a"
             ],
             [
              0.8888888888888888,
              "#fdca26"
             ],
             [
              1,
              "#f0f921"
             ]
            ],
            "type": "surface"
           }
          ],
          "table": [
           {
            "cells": {
             "fill": {
              "color": "#EBF0F8"
             },
             "line": {
              "color": "white"
             }
            },
            "header": {
             "fill": {
              "color": "#C8D4E3"
             },
             "line": {
              "color": "white"
             }
            },
            "type": "table"
           }
          ]
         },
         "layout": {
          "annotationdefaults": {
           "arrowcolor": "#2a3f5f",
           "arrowhead": 0,
           "arrowwidth": 1
          },
          "autotypenumbers": "strict",
          "coloraxis": {
           "colorbar": {
            "outlinewidth": 0,
            "ticks": ""
           }
          },
          "colorscale": {
           "diverging": [
            [
             0,
             "#8e0152"
            ],
            [
             0.1,
             "#c51b7d"
            ],
            [
             0.2,
             "#de77ae"
            ],
            [
             0.3,
             "#f1b6da"
            ],
            [
             0.4,
             "#fde0ef"
            ],
            [
             0.5,
             "#f7f7f7"
            ],
            [
             0.6,
             "#e6f5d0"
            ],
            [
             0.7,
             "#b8e186"
            ],
            [
             0.8,
             "#7fbc41"
            ],
            [
             0.9,
             "#4d9221"
            ],
            [
             1,
             "#276419"
            ]
           ],
           "sequential": [
            [
             0,
             "#0d0887"
            ],
            [
             0.1111111111111111,
             "#46039f"
            ],
            [
             0.2222222222222222,
             "#7201a8"
            ],
            [
             0.3333333333333333,
             "#9c179e"
            ],
            [
             0.4444444444444444,
             "#bd3786"
            ],
            [
             0.5555555555555556,
             "#d8576b"
            ],
            [
             0.6666666666666666,
             "#ed7953"
            ],
            [
             0.7777777777777778,
             "#fb9f3a"
            ],
            [
             0.8888888888888888,
             "#fdca26"
            ],
            [
             1,
             "#f0f921"
            ]
           ],
           "sequentialminus": [
            [
             0,
             "#0d0887"
            ],
            [
             0.1111111111111111,
             "#46039f"
            ],
            [
             0.2222222222222222,
             "#7201a8"
            ],
            [
             0.3333333333333333,
             "#9c179e"
            ],
            [
             0.4444444444444444,
             "#bd3786"
            ],
            [
             0.5555555555555556,
             "#d8576b"
            ],
            [
             0.6666666666666666,
             "#ed7953"
            ],
            [
             0.7777777777777778,
             "#fb9f3a"
            ],
            [
             0.8888888888888888,
             "#fdca26"
            ],
            [
             1,
             "#f0f921"
            ]
           ]
          },
          "colorway": [
           "#636efa",
           "#EF553B",
           "#00cc96",
           "#ab63fa",
           "#FFA15A",
           "#19d3f3",
           "#FF6692",
           "#B6E880",
           "#FF97FF",
           "#FECB52"
          ],
          "font": {
           "color": "#2a3f5f"
          },
          "geo": {
           "bgcolor": "white",
           "lakecolor": "white",
           "landcolor": "#E5ECF6",
           "showlakes": true,
           "showland": true,
           "subunitcolor": "white"
          },
          "hoverlabel": {
           "align": "left"
          },
          "hovermode": "closest",
          "mapbox": {
           "style": "light"
          },
          "paper_bgcolor": "white",
          "plot_bgcolor": "#E5ECF6",
          "polar": {
           "angularaxis": {
            "gridcolor": "white",
            "linecolor": "white",
            "ticks": ""
           },
           "bgcolor": "#E5ECF6",
           "radialaxis": {
            "gridcolor": "white",
            "linecolor": "white",
            "ticks": ""
           }
          },
          "scene": {
           "xaxis": {
            "backgroundcolor": "#E5ECF6",
            "gridcolor": "white",
            "gridwidth": 2,
            "linecolor": "white",
            "showbackground": true,
            "ticks": "",
            "zerolinecolor": "white"
           },
           "yaxis": {
            "backgroundcolor": "#E5ECF6",
            "gridcolor": "white",
            "gridwidth": 2,
            "linecolor": "white",
            "showbackground": true,
            "ticks": "",
            "zerolinecolor": "white"
           },
           "zaxis": {
            "backgroundcolor": "#E5ECF6",
            "gridcolor": "white",
            "gridwidth": 2,
            "linecolor": "white",
            "showbackground": true,
            "ticks": "",
            "zerolinecolor": "white"
           }
          },
          "shapedefaults": {
           "line": {
            "color": "#2a3f5f"
           }
          },
          "ternary": {
           "aaxis": {
            "gridcolor": "white",
            "linecolor": "white",
            "ticks": ""
           },
           "baxis": {
            "gridcolor": "white",
            "linecolor": "white",
            "ticks": ""
           },
           "bgcolor": "#E5ECF6",
           "caxis": {
            "gridcolor": "white",
            "linecolor": "white",
            "ticks": ""
           }
          },
          "title": {
           "x": 0.05
          },
          "xaxis": {
           "automargin": true,
           "gridcolor": "white",
           "linecolor": "white",
           "ticks": "",
           "title": {
            "standoff": 15
           },
           "zerolinecolor": "white",
           "zerolinewidth": 2
          },
          "yaxis": {
           "automargin": true,
           "gridcolor": "white",
           "linecolor": "white",
           "ticks": "",
           "title": {
            "standoff": 15
           },
           "zerolinecolor": "white",
           "zerolinewidth": 2
          }
         }
        }
       }
      },
      "image/png": "[encoded data removed]",
      "text/html": [
       "<div>                            <div id=\"0199f4f9-434d-49f4-a05f-2c8525dfcabe\" class=\"plotly-graph-div\" style=\"height:525px; width:100%;\"></div>            <script type=\"text/javascript\">                require([\"plotly\"], function(Plotly) {                    window.PLOTLYENV=window.PLOTLYENV || {};                                    if (document.getElementById(\"0199f4f9-434d-49f4-a05f-2c8525dfcabe\")) {                    Plotly.newPlot(                        \"0199f4f9-434d-49f4-a05f-2c8525dfcabe\",                        [{\"hovertemplate\":\"0=%{r}\\u003cextra\\u003e\\u003c\\u002fextra\\u003e\",\"legendgroup\":\"\",\"marker\":{\"color\":\"#636efa\",\"pattern\":{\"shape\":\"\"}},\"name\":\"\",\"r\":[0.7961621558708969,0.10224103110093119,0.0030783898828534717,0.2217866003322334,0.44585799209656807,0.3606317449378508,0.9166911935425281,0.7924444535531504,0.5608047789041255,0.48732304088891065,0.22323246070971836,0.6630042683265273,0.1810726795597274,0.11193893900664631,0.8398612490392513,0.5677491562509895,0.8184374701476967,0.052498410802618745,0.04199705534673914,0.5345563263814486,0.5971612398850629,0.15491122787784561,0.6854879305899788,0.41820334433607553,0.20172200531581497,0.19884770944238506,0.11215646548485636,0.2760790794274962,0.31335886079061837,0.934248061404993,0.8521535989666674,0.27106465049402406,0.3070410062550445,0.049430327113253014,0.7483096069731472,0.6708682055520448,0.31050361944446336,0.024991267209219514,0.07429716968025224,0.7069806327011587,0.8667946459362682,0.9024796562025075,0.6882305534375076,0.4071588036760263,0.37959019789544535,0.5147896908529055,0.002060792440859771,0.40294872599292886,0.0814432587218864,0.9957037353577015,0.526776027216321,0.9616172986251774,0.472781968928354,0.8177253551488355,0.7141256005705257,0.08842253866184469,0.6869216636824796,0.05947940862055301,0.7643416343952908,0.7192416806487696,0.20404601180535353,0.12621514839342152,0.7264613022279349,0.6923444173711711,0.9950277141741587,0.09764976359953292,0.9328660514126904,0.10255946527094473,0.45935257317499156,0.2498350837767388,0.8169680910407424,0.6159353519992868,0.8913533604257209,0.6639662204289299,0.14110718620414286,0.0162206901232701,0.9041464904121352,0.7522968959939101,0.8063821960321809,0.01870606431506805,0.22688482996833637,0.09580865505085301,0.4378252842947322,0.568359002351379,0.8345807573534222,0.1590511199227348,0.6124878232090268,0.16594346212207967,0.7168494120382373,0.4267415465141019,0.7492244146708128,0.2943580273051746,0.755150835515095,0.6009517768780771,0.1202919585702461,0.4924055663153375,0.5984626766991056,0.4722483737161285,0.5898955923947768,0.7281838822978784,0.4178111825700672,0.2588833464406899,0.7145119827277807,0.012153350281151831,0.7592762460013607,0.5727770227192465,0.7729034802633888,0.30787635275205216,0.21601827341822222,0.49302664415004316,0.9203716832917881,0.7960467666618558,0.058686646268608644,0.8218415928952093,0.6901316049043285,0.5035430382353497,0.33466084440503163,0.23042228934489617,0.10429764830305188,0.7716913125252678,0.8996520279638873,0.663675972012048,0.6993799135388835,0.9350665915399513,0.8122662815278843,0.5449487882131416,0.9846466010302839,0.08613465332128134,0.17455610903078922,0.7626947168756912,0.48070460566375983,0.5959957246890977,0.5826222555344991,0.5385154083738855,0.9912912543114076,0.5752476006644177,0.5077277112510774,0.45393312238480554,0.9877301459856378,0.579875114861214,0.8285265686750632,0.7029192336770081,0.9232558602434692,0.3544811131203268,0.9382980532367728,0.24961670932627766,0.1151476619142503,0.6125493296694954,0.7654100982497267,0.8750971615176323,0.7541375897869136,0.2751230855655381,0.2242370645942684,0.06288676813757577,0.7333216387098832,0.4299649332720621,0.2012679801174322,0.953947129859998,0.8236123363694474,0.723459150198028,0.5829840706696857,0.4427266184385069,0.4620400013117121,0.9610634486064,0.9872349252986121,0.6059281004017654,0.6673860581402268,0.9670174924017049,0.1250929603049462,0.9754094787274211,0.649367433526264,0.5848600381044463,0.8264739994736248,0.5403687009599203,0.7111077136525865,0.06085120865402183,0.03700657062218626,0.63294740096276,0.05948887804381231,0.9558579919816673,0.6535873081341294,0.8194045660853289,0.2931354141581485,0.21636174127177754,0.2835837259990811,0.22060572453756622,0.34920514614939513,0.0015484680386750327,0.12852628060079896,0.08868142497175147,0.6919780099094389,0.19345892225120687,0.07352224354411896,0.6064064887680481,0.9350587328379637,0.005475645819246977,0.759265002292625,0.04625302419372568,0.8485107113992946,0.925335160087705,0.9334054012566888,0.6075479111127365,0.2080396722274489,0.1734719507366307,0.5271205248391829,0.9402851941453422,0.001716631951597769,0.6133312113568459,0.023679280382545853,0.5040926650794472,0.8413935033567774,0.17905588434897823,0.5320474938556954,0.7695211238509749,0.7635400684175051,0.10619299757222966,0.9329556091623549,0.8262711229197923,0.4100715077589784,0.7283455876341913,0.6330081374573885,0.02950450321630238,0.1457661912726279,0.5354510231457331,0.3385423006881645,0.157924806215462,0.9836212708817669,0.11697581146881075,0.46415293030860305,0.13380090032191694,0.14894232852969846,0.29744065710722556,0.6297654554612738,0.8687563395633254,0.7622644944644307,0.9829713619777913,0.1847932654759309,0.0527196787562757,0.7449491691853046,0.12375134669555654,0.2996858704697548,0.3306673551635513,0.5060520305089528,0.9988277953916707,0.2284331746097864,0.0354483160820811,0.5939676835224892,0.23456328498585188,0.7833696349314637,0.017026586808621014,0.2106312055987417,0.3399112441964699,0.2094764311556574,0.8933154830612123,0.6047494929886759,0.9121201594169953,0.007874150601232976,0.49894848914930945,0.8225775665521926,0.6226743968422273,0.5539256439185272,0.9100003363480155,0.3908609009415366,0.6941906750921167,0.5311844448264906,0.8002997843849244,0.47003055253874426,0.7978698400058778,0.567232985317195,0.9974783859150222,0.8658717859996928,0.40515177095334964,0.5301628462167612,0.6407337184652767,0.047641882766367605,0.4601178108082049,0.2742958505830395,0.15457677921399804,0.8243996076062612,0.1038460275413049,0.8389663165900614,0.7599995239198019,0.3484829898722529,0.6808587080209368,0.24014236127650634,0.8548655905964407,0.24261583275720655,0.3894426408890165,0.16103382768114927,0.8563274405598114,0.7545397273396776,0.4666389217972755,0.022549264815070136,0.28818400732752014,0.21835365053455236,0.02198673859767941,0.2897452012299998,0.19589340386753895,0.7125898961821049,0.7768069261764194,0.364629920136887,0.8759015386528533,0.46923291953127,0.23747419934426617,0.7702775424826953,0.05412125357505404,0.9392747532528724,0.05314519632488324,0.984276137675597,0.2587561885658133,0.010970323166688556,0.43625165601128046,0.5646242561817446,0.5793532424318568,0.09055267357397467,0.42168251738525164,0.8291327651531858,0.3588090033891165,0.8081258224974356,0.317324675911813,0.08072033226269526,0.9291539255206664,0.5229651395873111,0.41730735717542133,0.9054135772647114,0.3087960562395492,0.924087901672984,0.00978620302793709,0.11341950118959532,0.9356193352205895,0.893850301549177,0.5060390613942842,0.4702381890106164,0.5246313715358351,0.9865668304731053,0.6405144980317828,0.12882516913267772,0.805827316164427,0.7554422445841876,0.1017841609240403,0.7508978821725035,0.5062456962679266,0.9094223033224873,0.7659720524336618,0.444143245808699,0.3467560073748721,0.3371070141259872,0.6403533199182831,0.9465437398670125,0.2441360056186097,0.6300068704462035,0.7073896904920307,0.394119765703435,0.6272993055800714,0.6972394121510485,0.14940910021151554,0.7556743634292147,0.8992955235205577,0.17739366715146387,0.4807441952762175,0.04546243215450552,0.566100447721441,0.17279597473686026,0.7892665372468987,0.3834092517802632,0.07187776973300652,0.24023829445405098,0.9744384256121014,0.40887233281725566,0.7165790425394807,0.17250086545854337,0.07864798409923512,0.015009789256425932,0.6347496367370381,0.16931329236353643,0.9695883862236706,0.31036751372287963,0.9644367483772971,0.07534892009220129,0.8457900213994409,0.35439936203538924,0.5292882764430661,0.6343932190490069,0.8396001828144911,0.7811179868088912,0.7301438766296395,0.7368865626417774,0.11670361302949561,0.13420841607926415,0.8940316382051257,0.035284673756625806,0.4485908553257524,0.048418113010596286,0.7822039400136034,0.76072567358324,0.007939840704312418,0.65736985875403,0.444215408357164,0.8105791877349607,0.4585748716261311,0.6269201283746357,0.044339800981305855,0.4486515656376636,0.6983567114762468,0.7804756106278189,0.6142447997413036,0.5029301175845614,0.25160798705418175,0.19383440798805818,0.08505405976652913,0.2578697110776691,0.11521243868750408,0.9996198745501796,0.5832553451466889,0.6076687671188024,0.8826373515992343,0.0605043272948409,0.037789968698338616,0.8237043028608322,0.6390874143360297,0.11292799163438727,0.8747526356058957,0.9340342414059044,0.931532864911504,0.3556609043819804,0.5448411349235244,0.633552258563977,0.03445814679802495,0.8001922964102955,0.37280311921998144,0.31386291152173207,0.9573808265363211,0.23477409419066964,0.4448931877851444,0.3537412973930997,0.32460619763812937,0.8265856625701875,0.33250267572493,0.5011667747208137,0.5220677303098115,0.8577789019047134,0.26452897119837737,0.16066678989117034,0.00005628978237381954,0.5353723573559328,0.9474264145498028,0.4724378664861988,0.4699257563546293,0.9417188922463949,0.4485122299644353,0.1259634807300517,0.5935314498125926,0.4004635752667768,0.8752593990995426,0.3000710557309074,0.7053856166102577,0.9846096450186067,0.8328658363394308,0.03774189659196836,0.3207311725424967,0.9181397907377644,0.2605635896107127,0.6388120431413089,0.249816841873037,0.9306238569612255,0.23711661611252222,0.5003205855483912,0.17592641461094782,0.7540506457385763,0.604907870633291,0.8686150030638794,0.9754464192463502,0.9413171585558185,0.35662813400526994,0.015960869518708343,0.7290509609626743,0.7134329212237237,0.38215210405371536,0.15970007213176818,0.42622221365170954,0.7102618658348923,0.9989694091075998,0.5599973957274854,0.16283002596221108,0.4063717430985335,0.4794523950198458,0.4091617224273615,0.9569391777009596,0.9180592152840493,0.9555829540790164,0.14944469256783066,0.8018000046446726,0.8102075414997254,0.6540730056067899,0.5300754800273259,0.5874386090470731,0.1628282562117388,0.8019830972904844,0.769921610806006,0.23224863132787898,0.3224287692320915,0.5723340637334666,0.33011019392620466,0.3258254769453621,0.8762833131797184,0.7496513066053587,0.4450893234601375,0.3929381185607457,0.2990697890752353,0.3148591261405137,0.4357949023789992,0.1860923607063958,0.40052423300889994,0.5289358341744246,0.22612953873212926,0.3301201673736036,0.25179146402826114,0.8195384024887259,0.24918628006344434,0.06050651654376693,0.8083172922649975,0.4321445307454602,0.8466111040711062,0.9310846584610069,0.5523937053077747,0.07255937263886325,0.7185413687204157,0.7814027700054743,0.6165781411618457,0.05267946815192559,0.6910438971337153,0.11829167987378564,0.640693567316109,0.6610297091261746,0.21236850770922544,0.9976297294564874,0.893934040006447,0.30193064779646406,0.7056882605493324,0.10803003823470325,0.1888140243104639,0.43156965520982604,0.17163576076335763,0.8249786648474167,0.3751662765579582,0.19383883374666133,0.4242286327028447,0.5202274392815815,0.8118473829725884,0.1929611578634307,0.2145303782000465,0.09927621766006256,0.28034408556907875,0.845520629953601,0.12707672610551213,0.5101043667715522,0.5055785571460244,0.27896620225056423,0.9566162618622353,0.8125782888592353,0.6590160285040483,0.5861518786125097,0.7829560491938996,0.25935062352563676,0.06812873465344704,0.34390074514869506,0.8895444328674662,0.9846438939826223,0.07433461312982792,0.42885652106918226,0.9999663187550313,0.21743284914031435,0.7268741982126867,0.016979695390255123,0.1578173309856452,0.12366301910905442,0.6429949455926496,0.8457810515520506,0.33426950678794976,0.5273271169882184,0.46199971466539314,0.8468866879862519,0.32152364994150306,0.4500375489732791,0.5138323103272487,0.8285564222745013,0.7447476241381099,0.2374986180680796,0.3706511184305441,0.8991999508624086,0.6989735600097668,0.534370327963547,0.360468322247549,0.91491060389302,0.007714520284952786,0.17866588752842405,0.05164451129063086,0.32204652954472457,0.8575071895315265,0.6094643742355053,0.9258901835438332,0.16811763347726816,0.5016053883660858,0.33029619208434235,0.620616011291224,0.4077302605280355,0.2038822740953795,0.27713476476684706,0.43511213432586326,0.3985441841458095,0.3628801191890292,0.01238081535464497,0.42735962144744644,0.733246089060039,0.6254076732901874,0.4824045274758375,0.7824811751488804,0.3353299071802113,0.21204961632665376,0.12298286072642306,0.12398840638441955,0.26840004155145014,0.44398646332409675,0.9067870584874147,0.4873667716343518,0.46031256368632667,0.9780742212170819,0.4734847491864367,0.8114811511096197,0.3190460667071843,0.3810062005637366,0.6591583479048264,0.8037598148518164,0.18040509079090894,0.06773078164043977,0.6770128953338762,0.5467567361748027,0.4291914505660651,0.2981356142985635,0.8953981271455648,0.33917998111081626,0.18805002466596676,0.39744751008091594,0.32714904894431995,0.36513556147641213,0.4936314960098277,0.09202686191856635,0.06452195945095884,0.7448955837593765,0.12002473748386189,0.549209421759901,0.7649370502152548,0.5047074769887451,0.604615812772886,0.39178311431652224,0.3912127888744985,0.6977876004759364,0.6565119586806989,0.9507632000221564,0.47151011569378865,0.41155562375431376,0.3329095547652198,0.9100600826007468,0.8472596015797391,0.23044006940186967,0.687219183713325,0.7350933097626035,0.6458872405077063,0.9372100857768798,0.8620000323357433,0.15677394137377776,0.46170538784210247,0.49867567449456174,0.6471243770353748,0.6349182735031099,0.24601777896000854,0.23251957758217212,0.9202789555664378,0.5426309935568138,0.3933389498661948,0.06541846607359258,0.7253746030697147,0.5560296425830895,0.9735203978958816,0.9065374002287163,0.7584234723155017,0.6072821723654663,0.07290776777834052,0.6438486079948902,0.5405879561374229,0.3460456129701521,0.12306949417476987,0.006106658185930369,0.3773728715221282,0.35211822065245746,0.7566083193161415,0.4652271839196842,0.05093410669234566,0.4620661062674072,0.34294931791454786,0.5402558417801168,0.4702775228000976,0.734084108778777,0.33473407536104616,0.930315240584053,0.9043713761769769,0.5418311551864475,0.8890754808819791,0.5066008817755893,0.21388719134936351,0.45967860753364287,0.28049004665177313,0.5514403491890982,0.6045678835930952,0.36773824448466397,0.17238558294121076,0.6255635953709967,0.8700936707270769,0.1367220801313319,0.3861745271364714,0.04914776815949984,0.7222989513494673,0.5943142170508046,0.20370793409079213,0.2305296597455898,0.04565691029343011,0.24460105194682003,0.9659839570334396,0.008460150990985293,0.1515665753767067,0.9664476899958889,0.3460242434680767,0.4872914532736685,0.2372302987683106,0.8983628732348581,0.6453054583482889,0.48840018142913655,0.7752327581155832,0.32502346724780296,0.8495814289253754,0.11446928954569913,0.518989804206649,0.9134026563763343,0.2225696770471317,0.5953593463905676,0.6741818513706545,0.6865279529264052,0.7418794104051291,0.6110703354684104,0.7858081434632663,0.25022644445113706,0.05904343215814467,0.7806631352428314,0.7898063939219893,0.9245039091198117,0.422810775097599,0.5202182065590754,0.531795907989087,0.9361138909234356,0.6643816054015944,0.2843996246672609,0.41096475949177835,0.08529216857439592,0.5863548971678325,0.6077927249222327,0.7753142802024079,0.5863757077958827,0.2668391113735259],\"showlegend\":false,\"subplot\":\"polar\",\"type\":\"barpolar\"}],                        {\"template\":{\"data\":{\"histogram2dcontour\":[{\"type\":\"histogram2dcontour\",\"colorbar\":{\"outlinewidth\":0,\"ticks\":\"\"},\"colorscale\":[[0.0,\"#0d0887\"],[0.1111111111111111,\"#46039f\"],[0.2222222222222222,\"#7201a8\"],[0.3333333333333333,\"#9c179e\"],[0.4444444444444444,\"#bd3786\"],[0.5555555555555556,\"#d8576b\"],[0.6666666666666666,\"#ed7953\"],[0.7777777777777778,\"#fb9f3a\"],[0.8888888888888888,\"#fdca26\"],[1.0,\"#f0f921\"]]}],\"choropleth\":[{\"type\":\"choropleth\",\"colorbar\":{\"outlinewidth\":0,\"ticks\":\"\"}}],\"histogram2d\":[{\"type\":\"histogram2d\",\"colorbar\":{\"outlinewidth\":0,\"ticks\":\"\"},\"colorscale\":[[0.0,\"#0d0887\"],[0.1111111111111111,\"#46039f\"],[0.2222222222222222,\"#7201a8\"],[0.3333333333333333,\"#9c179e\"],[0.4444444444444444,\"#bd3786\"],[0.5555555555555556,\"#d8576b\"],[0.6666666666666666,\"#ed7953\"],[0.7777777777777778,\"#fb9f3a\"],[0.8888888888888888,\"#fdca26\"],[1.0,\"#f0f921\"]]}],\"heatmap\":[{\"type\":\"heatmap\",\"colorbar\":{\"outlinewidth\":0,\"ticks\":\"\"},\"colorscale\":[[0.0,\"#0d0887\"],[0.1111111111111111,\"#46039f\"],[0.2222222222222222,\"#7201a8\"],[0.3333333333333333,\"#9c179e\"],[0.4444444444444444,\"#bd3786\"],[0.5555555555555556,\"#d8576b\"],[0.6666666666666666,\"#ed7953\"],[0.7777777777777778,\"#fb9f3a\"],[0.8888888888888888,\"#fdca26\"],[1.0,\"#f0f921\"]]}],\"heatmapgl\":[{\"type\":\"heatmapgl\",\"colorbar\":{\"outlinewidth\":0,\"ticks\":\"\"},\"colorscale\":[[0.0,\"#0d0887\"],[0.1111111111111111,\"#46039f\"],[0.2222222222222222,\"#7201a8\"],[0.3333333333333333,\"#9c179e\"],[0.4444444444444444,\"#bd3786\"],[0.5555555555555556,\"#d8576b\"],[0.6666666666666666,\"#ed7953\"],[0.7777777777777778,\"#fb9f3a\"],[0.8888888888888888,\"#fdca26\"],[1.0,\"#f0f921\"]]}],\"contourcarpet\":[{\"type\":\"contourcarpet\",\"colorbar\":{\"outlinewidth\":0,\"ticks\":\"\"}}],\"contour\":[{\"type\":\"contour\",\"colorbar\":{\"outlinewidth\":0,\"ticks\":\"\"},\"colorscale\":[[0.0,\"#0d0887\"],[0.1111111111111111,\"#46039f\"],[0.2222222222222222,\"#7201a8\"],[0.3333333333333333,\"#9c179e\"],[0.4444444444444444,\"#bd3786\"],[0.5555555555555556,\"#d8576b\"],[0.6666666666666666,\"#ed7953\"],[0.7777777777777778,\"#fb9f3a\"],[0.8888888888888888,\"#fdca26\"],[1.0,\"#f0f921\"]]}],\"surface\":[{\"type\":\"surface\",\"colorbar\":{\"outlinewidth\":0,\"ticks\":\"\"},\"colorscale\":[[0.0,\"#0d0887\"],[0.1111111111111111,\"#46039f\"],[0.2222222222222222,\"#7201a8\"],[0.3333333333333333,\"#9c179e\"],[0.4444444444444444,\"#bd3786\"],[0.5555555555555556,\"#d8576b\"],[0.6666666666666666,\"#ed7953\"],[0.7777777777777778,\"#fb9f3a\"],[0.8888888888888888,\"#fdca26\"],[1.0,\"#f0f921\"]]}],\"mesh3d\":[{\"type\":\"mesh3d\",\"colorbar\":{\"outlinewidth\":0,\"ticks\":\"\"}}],\"scatter\":[{\"fillpattern\":{\"fillmode\":\"overlay\",\"size\":10,\"solidity\":0.2},\"type\":\"scatter\"}],\"parcoords\":[{\"type\":\"parcoords\",\"line\":{\"colorbar\":{\"outlinewidth\":0,\"ticks\":\"\"}}}],\"scatterpolargl\":[{\"type\":\"scatterpolargl\",\"marker\":{\"colorbar\":{\"outlinewidth\":0,\"ticks\":\"\"}}}],\"bar\":[{\"error_x\":{\"color\":\"#2a3f5f\"},\"error_y\":{\"color\":\"#2a3f5f\"},\"marker\":{\"line\":{\"color\":\"#E5ECF6\",\"width\":0.5},\"pattern\":{\"fillmode\":\"overlay\",\"size\":10,\"solidity\":0.2}},\"type\":\"bar\"}],\"scattergeo\":[{\"type\":\"scattergeo\",\"marker\":{\"colorbar\":{\"outlinewidth\":0,\"ticks\":\"\"}}}],\"scatterpolar\":[{\"type\":\"scatterpolar\",\"marker\":{\"colorbar\":{\"outlinewidth\":0,\"ticks\":\"\"}}}],\"histogram\":[{\"marker\":{\"pattern\":{\"fillmode\":\"overlay\",\"size\":10,\"solidity\":0.2}},\"type\":\"histogram\"}],\"scattergl\":[{\"type\":\"scattergl\",\"marker\":{\"colorbar\":{\"outlinewidth\":0,\"ticks\":\"\"}}}],\"scatter3d\":[{\"type\":\"scatter3d\",\"line\":{\"colorbar\":{\"outlinewidth\":0,\"ticks\":\"\"}},\"marker\":{\"colorbar\":{\"outlinewidth\":0,\"ticks\":\"\"}}}],\"scattermapbox\":[{\"type\":\"scattermapbox\",\"marker\":{\"colorbar\":{\"outlinewidth\":0,\"ticks\":\"\"}}}],\"scatterternary\":[{\"type\":\"scatterternary\",\"marker\":{\"colorbar\":{\"outlinewidth\":0,\"ticks\":\"\"}}}],\"scattercarpet\":[{\"type\":\"scattercarpet\",\"marker\":{\"colorbar\":{\"outlinewidth\":0,\"ticks\":\"\"}}}],\"carpet\":[{\"aaxis\":{\"endlinecolor\":\"#2a3f5f\",\"gridcolor\":\"white\",\"linecolor\":\"white\",\"minorgridcolor\":\"white\",\"startlinecolor\":\"#2a3f5f\"},\"baxis\":{\"endlinecolor\":\"#2a3f5f\",\"gridcolor\":\"white\",\"linecolor\":\"white\",\"minorgridcolor\":\"white\",\"startlinecolor\":\"#2a3f5f\"},\"type\":\"carpet\"}],\"table\":[{\"cells\":{\"fill\":{\"color\":\"#EBF0F8\"},\"line\":{\"color\":\"white\"}},\"header\":{\"fill\":{\"color\":\"#C8D4E3\"},\"line\":{\"color\":\"white\"}},\"type\":\"table\"}],\"barpolar\":[{\"marker\":{\"line\":{\"color\":\"#E5ECF6\",\"width\":0.5},\"pattern\":{\"fillmode\":\"overlay\",\"size\":10,\"solidity\":0.2}},\"type\":\"barpolar\"}],\"pie\":[{\"automargin\":true,\"type\":\"pie\"}]},\"layout\":{\"autotypenumbers\":\"strict\",\"colorway\":[\"#636efa\",\"#EF553B\",\"#00cc96\",\"#ab63fa\",\"#FFA15A\",\"#19d3f3\",\"#FF6692\",\"#B6E880\",\"#FF97FF\",\"#FECB52\"],\"font\":{\"color\":\"#2a3f5f\"},\"hovermode\":\"closest\",\"hoverlabel\":{\"align\":\"left\"},\"paper_bgcolor\":\"white\",\"plot_bgcolor\":\"#E5ECF6\",\"polar\":{\"bgcolor\":\"#E5ECF6\",\"angularaxis\":{\"gridcolor\":\"white\",\"linecolor\":\"white\",\"ticks\":\"\"},\"radialaxis\":{\"gridcolor\":\"white\",\"linecolor\":\"white\",\"ticks\":\"\"}},\"ternary\":{\"bgcolor\":\"#E5ECF6\",\"aaxis\":{\"gridcolor\":\"white\",\"linecolor\":\"white\",\"ticks\":\"\"},\"baxis\":{\"gridcolor\":\"white\",\"linecolor\":\"white\",\"ticks\":\"\"},\"caxis\":{\"gridcolor\":\"white\",\"linecolor\":\"white\",\"ticks\":\"\"}},\"coloraxis\":{\"colorbar\":{\"outlinewidth\":0,\"ticks\":\"\"}},\"colorscale\":{\"sequential\":[[0.0,\"#0d0887\"],[0.1111111111111111,\"#46039f\"],[0.2222222222222222,\"#7201a8\"],[0.3333333333333333,\"#9c179e\"],[0.4444444444444444,\"#bd3786\"],[0.5555555555555556,\"#d8576b\"],[0.6666666666666666,\"#ed7953\"],[0.7777777777777778,\"#fb9f3a\"],[0.8888888888888888,\"#fdca26\"],[1.0,\"#f0f921\"]],\"sequentialminus\":[[0.0,\"#0d0887\"],[0.1111111111111111,\"#46039f\"],[0.2222222222222222,\"#7201a8\"],[0.3333333333333333,\"#9c179e\"],[0.4444444444444444,\"#bd3786\"],[0.5555555555555556,\"#d8576b\"],[0.6666666666666666,\"#ed7953\"],[0.7777777777777778,\"#fb9f3a\"],[0.8888888888888888,\"#fdca26\"],[1.0,\"#f0f921\"]],\"diverging\":[[0,\"#8e0152\"],[0.1,\"#c51b7d\"],[0.2,\"#de77ae\"],[0.3,\"#f1b6da\"],[0.4,\"#fde0ef\"],[0.5,\"#f7f7f7\"],[0.6,\"#e6f5d0\"],[0.7,\"#b8e186\"],[0.8,\"#7fbc41\"],[0.9,\"#4d9221\"],[1,\"#276419\"]]},\"xaxis\":{\"gridcolor\":\"white\",\"linecolor\":\"white\",\"ticks\":\"\",\"title\":{\"standoff\":15},\"zerolinecolor\":\"white\",\"automargin\":true,\"zerolinewidth\":2},\"yaxis\":{\"gridcolor\":\"white\",\"linecolor\":\"white\",\"ticks\":\"\",\"title\":{\"standoff\":15},\"zerolinecolor\":\"white\",\"automargin\":true,\"zerolinewidth\":2},\"scene\":{\"xaxis\":{\"backgroundcolor\":\"#E5ECF6\",\"gridcolor\":\"white\",\"linecolor\":\"white\",\"showbackground\":true,\"ticks\":\"\",\"zerolinecolor\":\"white\",\"gridwidth\":2},\"yaxis\":{\"backgroundcolor\":\"#E5ECF6\",\"gridcolor\":\"white\",\"linecolor\":\"white\",\"showbackground\":true,\"ticks\":\"\",\"zerolinecolor\":\"white\",\"gridwidth\":2},\"zaxis\":{\"backgroundcolor\":\"#E5ECF6\",\"gridcolor\":\"white\",\"linecolor\":\"white\",\"showbackground\":true,\"ticks\":\"\",\"zerolinecolor\":\"white\",\"gridwidth\":2}},\"shapedefaults\":{\"line\":{\"color\":\"#2a3f5f\"}},\"annotationdefaults\":{\"arrowcolor\":\"#2a3f5f\",\"arrowhead\":0,\"arrowwidth\":1},\"geo\":{\"bgcolor\":\"white\",\"landcolor\":\"#E5ECF6\",\"subunitcolor\":\"white\",\"showland\":true,\"showlakes\":true,\"lakecolor\":\"white\"},\"title\":{\"x\":0.05},\"mapbox\":{\"style\":\"light\"}}},\"polar\":{\"domain\":{\"x\":[0.0,1.0],\"y\":[0.0,1.0]},\"angularaxis\":{\"direction\":\"clockwise\",\"rotation\":90}},\"legend\":{\"tracegroupgap\":0},\"margin\":{\"t\":0,\"l\":0,\"r\":0,\"b\":0},\"barmode\":\"relative\"},                        {\"responsive\": true}                    ).then(function(){\n",
       "                            \n",
       "var gd = document.getElementById('0199f4f9-434d-49f4-a05f-2c8525dfcabe');\n",
       "var x = new MutationObserver(function (mutations, observer) {{\n",
       "        var display = window.getComputedStyle(gd).display;\n",
       "        if (!display || display === 'none') {{\n",
       "            console.log([gd, 'removed!']);\n",
       "            Plotly.purge(gd);\n",
       "            observer.disconnect();\n",
       "        }}\n",
       "}});\n",
       "\n",
       "// Listen for the removal of the full notebook cells\n",
       "var notebookContainer = gd.closest('#notebook-container');\n",
       "if (notebookContainer) {{\n",
       "    x.observe(notebookContainer, {childList: true});\n",
       "}}\n",
       "\n",
       "// Listen for the clearing of the current output cell\n",
       "var outputEl = gd.closest('.output');\n",
       "if (outputEl) {{\n",
       "    x.observe(outputEl, {childList: true});\n",
       "}}\n",
       "\n",
       "                        })                };                });            </script>        </div>"
      ]
     },
     "metadata": {},
     "output_type": "display_data"
    }
   ],
   "source": [
    "fig = px.bar_polar(points[0], r=0)\n",
    "\n",
    "# tight layout\n",
    "fig.update_layout(margin=dict(l=0, r=0, b=0, t=0))\n",
    "fig.show()"
   ]
  },
  {
   "cell_type": "code",
   "execution_count": null,
   "id": "f514f94e-fb0a-4328-a0a7-672660b23861",
   "metadata": {},
   "outputs": [],
   "source": []
  },
  {
   "cell_type": "code",
   "execution_count": 8,
   "id": "054f27b9-9b57-4307-b518-5bcafa303b3c",
   "metadata": {},
   "outputs": [],
   "source": [
    "text0 = \"Se j'aime et sers la belle de bon hais\"\n",
    "text1 = \"m'en voulez-vous tenir ne fol ne sot'\n",
    "v0 = embed(text0)\n",
    "v1 = embed(text1)\n",
    "v2 = embed(text0 + '\\n' + text1)\n",
    "v3 = v0 + v1 \n",
    "\n",
    "def show(v):\n",
    "    norm(v)\n",
    "\n",
    "    "
   ]
  },
  {
   "cell_type": "code",
   "execution_count": null,
   "id": "64db82ee-a770-4e81-8a37-3c954fd42c13",
   "metadata": {},
   "outputs": [],
   "source": [
    "\"\"\"select json_extract(parent.payload, '$.title') as title,\n",
    "          length(json_extract(parent.payload, '$.text')) as length,\n",
    "          distance_sqeuclidean_f32(embedding, zero) as norm,\n",
    "          stat.attributions as nb_attributions,\n",
    "          sum(stat.utilization) / stat.attributions as utilization\n",
    "   from chunk\n",
    "        join document as parent on document.rowid = chunk.parent\n",
    "        join document_stat as stat on stat.chunk = chunk.rowid\n",
    "    group by chunk.rowid;\n",
    "\"\"\"\n",
    "\n",
    "\"\"\" select length(response_text),\n",
    "           completeness,\n",
    "           context_adherence\n",
    "    from records\n",
    "\"\"\"\n",
    "df = pd.read_sql_query(sql=select(Calculations), con=connection.engine)\n",
    "print(df.head())"
   ]
  },
  {
   "cell_type": "code",
   "execution_count": null,
   "id": "c7f51803-5013-4098-8cce-f573cd0e931c",
   "metadata": {},
   "outputs": [],
   "source": [
    "class Chunk:\n",
    "    parent: Document\n",
    "    \n",
    "class Calculations(Base):\n",
    "    __tablename__ = \"calculations\"\n",
    "    id = Column(\"ID\", Integer, primary_key=True)"
   ]
  },
  {
   "cell_type": "code",
   "execution_count": null,
   "id": "8132d060-0edb-4961-8bdf-c0b5bf261b0f",
   "metadata": {},
   "outputs": [],
   "source": [
    "from langchain.text_splitter import RecursiveCharacterTextSplitter\n",
    "from transformers import AutoTokenizer\n",
    "\n",
    "EMBEDDING_MODEL_NAME = \"thenlper/gte-small\"\n",
    "\n",
    "# We use a hierarchical list of separators specifically tailored for splitting Markdown documents\n",
    "# This list is taken from LangChain's MarkdownTextSplitter class\n",
    "MARKDOWN_SEPARATORS = [\n",
    "    \"\\n#{1,6} \",\n",
    "    \"```\\n\",\n",
    "    \"\\n\\\\*\\\\*\\\\*+\\n\",\n",
    "    \"\\n---+\\n\",\n",
    "    \"\\n___+\\n\",\n",
    "    \"\\n\\n\",\n",
    "    \"\\n\",\n",
    "    \" \",\n",
    "    \"\",\n",
    "]\n",
    "\n",
    "def split_documents(\n",
    "    chunk_size: int,\n",
    "    knowledge_base: List[LangchainDocument],\n",
    "    tokenizer_name: Optional[str] = EMBEDDING_MODEL_NAME,\n",
    ") -> List[LangchainDocument]:\n",
    "    \"\"\"\n",
    "    Split documents into chunks of maximum size `chunk_size` tokens and return a list of documents.\n",
    "    \"\"\"\n",
    "    text_splitter = RecursiveCharacterTextSplitter.from_huggingface_tokenizer(\n",
    "        AutoTokenizer.from_pretrained(tokenizer_name),\n",
    "        chunk_size=chunk_size,\n",
    "        chunk_overlap=int(chunk_size / 10),\n",
    "        add_start_index=True,\n",
    "        strip_whitespace=True,\n",
    "        separators=MARKDOWN_SEPARATORS,\n",
    "    )\n",
    "\n",
    "    docs_processed = []\n",
    "\n",
    "    for doc in knowledge_base:\n",
    "        docs_processed += text_splitter.split_documents([doc])\n",
    "\n",
    "    # Remove duplicates\n",
    "    unique_texts = {}\n",
    "    docs_processed_unique = []\n",
    "    for doc in docs_processed:\n",
    "        if doc.page_content not in unique_texts:\n",
    "            unique_texts[doc.page_content] = True\n",
    "            docs_processed_unique.append(doc)\n",
    "    return docs_processed_unique\n",
    "\n",
    "docs_processed = split_documents(\n",
    "    512,  # We choose a chunk size adapted to our model\n",
    "    RAW_KNOWLEDGE_BASE,\n",
    "    tokenizer_name=EMBEDDING_MODEL_NAME,\n",
    ")\n",
    "\n",
    "# Let's visualize the chunk sizes we would have in tokens from a common model\n",
    "\n",
    "from transformers import AutoTokenizer\n",
    "\n",
    "tokenizer = AutoTokenizer.from_pretrained(EMBEDDING_MODEL_NAME)\n",
    "\n",
    "lengths = [len(tokenizer.encode(doc.page_content)) for doc in tqdm(docs_processed)]\n",
    "\n",
    "fig = pd.Series(lengths).hist()\n",
    "\n",
    "plt.title(\"Distribution of document lengths in the knowledge base (in count of tokens)\")\n",
    "\n",
    "plt.show()\n",
    "\n",
    "\n",
    "\n",
    "\n",
    "from ragatouille import RAGPretrainedModel\n",
    "\n",
    "RERANKER = RAGPretrainedModel.from_pretrained(\"colbert-ir/colbertv2.0\")\n",
    "\n",
    "\n",
    "    # Optionally rerank results\n",
    "    if reranker:\n",
    "        print(\"=> Reranking documents...\")\n",
    "        relevant_docs = reranker.rerank(question, relevant_docs, k=num_docs_final)\n",
    "        relevant_docs = [doc[\"content\"] for doc in relevant_docs]"
   ]
  }
 ],
 "metadata": {
  "kernelspec": {
   "display_name": "Python 3 (ipykernel)",
   "language": "python",
   "name": "python3"
  },
  "language_info": {
   "codemirror_mode": {
    "name": "ipython",
    "version": 3
   },
   "file_extension": ".py",
   "mimetype": "text/x-python",
   "name": "python",
   "nbconvert_exporter": "python",
   "pygments_lexer": "ipython3",
   "version": "3.11.4"
  }
 },
 "nbformat": 4,
 "nbformat_minor": 5
}
